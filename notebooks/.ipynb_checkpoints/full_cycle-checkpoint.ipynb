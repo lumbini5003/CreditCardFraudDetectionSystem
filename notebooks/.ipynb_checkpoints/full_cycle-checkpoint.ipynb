{
 "cells": [
  {
   "cell_type": "code",
   "execution_count": 9,
   "id": "2d02cb70",
   "metadata": {},
   "outputs": [],
   "source": [
    "#import required libraries\n",
    "import numpy as np \n",
    "import pandas as pd \n",
    "import seaborn as sns\n",
    "import matplotlib.pyplot as plt \n",
    "from sklearn.ensemble import RandomForestClassifier\n",
    "from sklearn.datasets import make_classification\n",
    "from sklearn.linear_model import LogisticRegression\n",
    "\n",
    "#to suppress warnings\n",
    "import warnings\n",
    "warnings.filterwarnings('ignore')"
   ]
  },
  {
   "cell_type": "code",
   "execution_count": 10,
   "id": "7e25e1dd",
   "metadata": {},
   "outputs": [],
   "source": [
    "#Load data\n",
    "MAX_ROWs = 10000\n",
    "\n",
    "#Load Train data\n",
    "train_identity_df = pd.read_csv(\"../data/raw/train_identity.csv\", nrows = MAX_ROWs)\n",
    "train_transaction_df = pd.read_csv(\"../data/raw/train_transaction.csv\", nrows = MAX_ROWs)\n",
    "\n",
    "#Load Test data\n",
    "test_identity_df = pd.read_csv(\"../data/raw/test_identity.csv\", nrows = MAX_ROWs)\n",
    "test_transaction_df = pd.read_csv(\"../data/raw/test_transaction.csv\", nrows = MAX_ROWs)\n"
   ]
  },
  {
   "cell_type": "code",
   "execution_count": 11,
   "id": "816ce01e",
   "metadata": {},
   "outputs": [
    {
     "data": {
      "text/html": [
       "<div>\n",
       "<style scoped>\n",
       "    .dataframe tbody tr th:only-of-type {\n",
       "        vertical-align: middle;\n",
       "    }\n",
       "\n",
       "    .dataframe tbody tr th {\n",
       "        vertical-align: top;\n",
       "    }\n",
       "\n",
       "    .dataframe thead th {\n",
       "        text-align: right;\n",
       "    }\n",
       "</style>\n",
       "<table border=\"1\" class=\"dataframe\">\n",
       "  <thead>\n",
       "    <tr style=\"text-align: right;\">\n",
       "      <th></th>\n",
       "      <th>TransactionID</th>\n",
       "      <th>isFraud</th>\n",
       "      <th>TransactionDT</th>\n",
       "      <th>TransactionAmt</th>\n",
       "      <th>ProductCD</th>\n",
       "      <th>card1</th>\n",
       "      <th>card2</th>\n",
       "      <th>card3</th>\n",
       "      <th>card4</th>\n",
       "      <th>card5</th>\n",
       "      <th>...</th>\n",
       "      <th>V330</th>\n",
       "      <th>V331</th>\n",
       "      <th>V332</th>\n",
       "      <th>V333</th>\n",
       "      <th>V334</th>\n",
       "      <th>V335</th>\n",
       "      <th>V336</th>\n",
       "      <th>V337</th>\n",
       "      <th>V338</th>\n",
       "      <th>V339</th>\n",
       "    </tr>\n",
       "  </thead>\n",
       "  <tbody>\n",
       "    <tr>\n",
       "      <th>0</th>\n",
       "      <td>2987000</td>\n",
       "      <td>0</td>\n",
       "      <td>86400</td>\n",
       "      <td>68.5</td>\n",
       "      <td>W</td>\n",
       "      <td>13926</td>\n",
       "      <td>NaN</td>\n",
       "      <td>150.0</td>\n",
       "      <td>discover</td>\n",
       "      <td>142.0</td>\n",
       "      <td>...</td>\n",
       "      <td>NaN</td>\n",
       "      <td>NaN</td>\n",
       "      <td>NaN</td>\n",
       "      <td>NaN</td>\n",
       "      <td>NaN</td>\n",
       "      <td>NaN</td>\n",
       "      <td>NaN</td>\n",
       "      <td>NaN</td>\n",
       "      <td>NaN</td>\n",
       "      <td>NaN</td>\n",
       "    </tr>\n",
       "    <tr>\n",
       "      <th>1</th>\n",
       "      <td>2987001</td>\n",
       "      <td>0</td>\n",
       "      <td>86401</td>\n",
       "      <td>29.0</td>\n",
       "      <td>W</td>\n",
       "      <td>2755</td>\n",
       "      <td>404.0</td>\n",
       "      <td>150.0</td>\n",
       "      <td>mastercard</td>\n",
       "      <td>102.0</td>\n",
       "      <td>...</td>\n",
       "      <td>NaN</td>\n",
       "      <td>NaN</td>\n",
       "      <td>NaN</td>\n",
       "      <td>NaN</td>\n",
       "      <td>NaN</td>\n",
       "      <td>NaN</td>\n",
       "      <td>NaN</td>\n",
       "      <td>NaN</td>\n",
       "      <td>NaN</td>\n",
       "      <td>NaN</td>\n",
       "    </tr>\n",
       "    <tr>\n",
       "      <th>2</th>\n",
       "      <td>2987002</td>\n",
       "      <td>0</td>\n",
       "      <td>86469</td>\n",
       "      <td>59.0</td>\n",
       "      <td>W</td>\n",
       "      <td>4663</td>\n",
       "      <td>490.0</td>\n",
       "      <td>150.0</td>\n",
       "      <td>visa</td>\n",
       "      <td>166.0</td>\n",
       "      <td>...</td>\n",
       "      <td>NaN</td>\n",
       "      <td>NaN</td>\n",
       "      <td>NaN</td>\n",
       "      <td>NaN</td>\n",
       "      <td>NaN</td>\n",
       "      <td>NaN</td>\n",
       "      <td>NaN</td>\n",
       "      <td>NaN</td>\n",
       "      <td>NaN</td>\n",
       "      <td>NaN</td>\n",
       "    </tr>\n",
       "    <tr>\n",
       "      <th>3</th>\n",
       "      <td>2987003</td>\n",
       "      <td>0</td>\n",
       "      <td>86499</td>\n",
       "      <td>50.0</td>\n",
       "      <td>W</td>\n",
       "      <td>18132</td>\n",
       "      <td>567.0</td>\n",
       "      <td>150.0</td>\n",
       "      <td>mastercard</td>\n",
       "      <td>117.0</td>\n",
       "      <td>...</td>\n",
       "      <td>NaN</td>\n",
       "      <td>NaN</td>\n",
       "      <td>NaN</td>\n",
       "      <td>NaN</td>\n",
       "      <td>NaN</td>\n",
       "      <td>NaN</td>\n",
       "      <td>NaN</td>\n",
       "      <td>NaN</td>\n",
       "      <td>NaN</td>\n",
       "      <td>NaN</td>\n",
       "    </tr>\n",
       "    <tr>\n",
       "      <th>4</th>\n",
       "      <td>2987004</td>\n",
       "      <td>0</td>\n",
       "      <td>86506</td>\n",
       "      <td>50.0</td>\n",
       "      <td>H</td>\n",
       "      <td>4497</td>\n",
       "      <td>514.0</td>\n",
       "      <td>150.0</td>\n",
       "      <td>mastercard</td>\n",
       "      <td>102.0</td>\n",
       "      <td>...</td>\n",
       "      <td>0.0</td>\n",
       "      <td>0.0</td>\n",
       "      <td>0.0</td>\n",
       "      <td>0.0</td>\n",
       "      <td>0.0</td>\n",
       "      <td>0.0</td>\n",
       "      <td>0.0</td>\n",
       "      <td>0.0</td>\n",
       "      <td>0.0</td>\n",
       "      <td>0.0</td>\n",
       "    </tr>\n",
       "  </tbody>\n",
       "</table>\n",
       "<p>5 rows × 394 columns</p>\n",
       "</div>"
      ],
      "text/plain": [
       "   TransactionID  isFraud  TransactionDT  TransactionAmt ProductCD  card1  \\\n",
       "0        2987000        0          86400            68.5         W  13926   \n",
       "1        2987001        0          86401            29.0         W   2755   \n",
       "2        2987002        0          86469            59.0         W   4663   \n",
       "3        2987003        0          86499            50.0         W  18132   \n",
       "4        2987004        0          86506            50.0         H   4497   \n",
       "\n",
       "   card2  card3       card4  card5  ... V330  V331  V332  V333  V334 V335  \\\n",
       "0    NaN  150.0    discover  142.0  ...  NaN   NaN   NaN   NaN   NaN  NaN   \n",
       "1  404.0  150.0  mastercard  102.0  ...  NaN   NaN   NaN   NaN   NaN  NaN   \n",
       "2  490.0  150.0        visa  166.0  ...  NaN   NaN   NaN   NaN   NaN  NaN   \n",
       "3  567.0  150.0  mastercard  117.0  ...  NaN   NaN   NaN   NaN   NaN  NaN   \n",
       "4  514.0  150.0  mastercard  102.0  ...  0.0   0.0   0.0   0.0   0.0  0.0   \n",
       "\n",
       "  V336  V337  V338  V339  \n",
       "0  NaN   NaN   NaN   NaN  \n",
       "1  NaN   NaN   NaN   NaN  \n",
       "2  NaN   NaN   NaN   NaN  \n",
       "3  NaN   NaN   NaN   NaN  \n",
       "4  0.0   0.0   0.0   0.0  \n",
       "\n",
       "[5 rows x 394 columns]"
      ]
     },
     "execution_count": 11,
     "metadata": {},
     "output_type": "execute_result"
    }
   ],
   "source": [
    "#check data for transaction\n",
    "train_transaction_df.head()"
   ]
  },
  {
   "cell_type": "code",
   "execution_count": 12,
   "id": "fed84d2f",
   "metadata": {},
   "outputs": [
    {
     "name": "stdout",
     "output_type": "stream",
     "text": [
      "Credit Card Fraud Detection data set of transaction -  rows: 10000  columns: 394\n"
     ]
    }
   ],
   "source": [
    "print(\"Credit Card Fraud Detection data set of transaction -  rows:\",train_transaction_df.shape[0],\" columns:\", train_transaction_df.shape[1])"
   ]
  },
  {
   "cell_type": "code",
   "execution_count": null,
   "id": "96852eda",
   "metadata": {},
   "outputs": [],
   "source": [
    "train_transaction_df.describe()"
   ]
  },
  {
   "cell_type": "code",
   "execution_count": null,
   "id": "544da374",
   "metadata": {},
   "outputs": [],
   "source": [
    "numericCols = train_transaction_df._get_numeric_data().columns\n",
    "categoricalCols = list(set(train_transaction_df) - set(numericCols))\n",
    "print('The categorical columns in training data are: ',categoricalCols)\n",
    "print('The numerical columns in training data are: ',numericCols)"
   ]
  },
  {
   "cell_type": "code",
   "execution_count": null,
   "id": "895cec8e",
   "metadata": {},
   "outputs": [],
   "source": [
    "#Check missing data for transaction dataset\n",
    "total = train_transaction_df.isnull().sum().sort_values(ascending = False)\n",
    "percent = (train_transaction_df.isnull().sum()/train_transaction_df.isnull().count()*100).sort_values(ascending = False)\n",
    "pd.concat([total, percent], axis=1, keys=['Total', 'Percent']).transpose()"
   ]
  },
  {
   "cell_type": "code",
   "execution_count": null,
   "id": "754e65ab",
   "metadata": {},
   "outputs": [],
   "source": [
    "#check data for identity dataset\n",
    "train_identity_df.head()"
   ]
  },
  {
   "cell_type": "code",
   "execution_count": null,
   "id": "5745819b",
   "metadata": {},
   "outputs": [],
   "source": [
    "print(\"Credit Card Fraud Detection data set of identity -  rows:\",train_identity_df.shape[0],\" columns:\", train_identity_df.shape[1])"
   ]
  },
  {
   "cell_type": "code",
   "execution_count": 27,
   "id": "3da8a4ea",
   "metadata": {},
   "outputs": [
    {
     "data": {
      "text/html": [
       "<div>\n",
       "<style scoped>\n",
       "    .dataframe tbody tr th:only-of-type {\n",
       "        vertical-align: middle;\n",
       "    }\n",
       "\n",
       "    .dataframe tbody tr th {\n",
       "        vertical-align: top;\n",
       "    }\n",
       "\n",
       "    .dataframe thead th {\n",
       "        text-align: right;\n",
       "    }\n",
       "</style>\n",
       "<table border=\"1\" class=\"dataframe\">\n",
       "  <thead>\n",
       "    <tr style=\"text-align: right;\">\n",
       "      <th></th>\n",
       "      <th>TransactionID</th>\n",
       "      <th>id_01</th>\n",
       "      <th>id_02</th>\n",
       "      <th>id_03</th>\n",
       "      <th>id_04</th>\n",
       "      <th>id_05</th>\n",
       "      <th>id_06</th>\n",
       "      <th>id_07</th>\n",
       "      <th>id_08</th>\n",
       "      <th>id_09</th>\n",
       "      <th>...</th>\n",
       "      <th>id_17</th>\n",
       "      <th>id_18</th>\n",
       "      <th>id_19</th>\n",
       "      <th>id_20</th>\n",
       "      <th>id_21</th>\n",
       "      <th>id_22</th>\n",
       "      <th>id_24</th>\n",
       "      <th>id_25</th>\n",
       "      <th>id_26</th>\n",
       "      <th>id_32</th>\n",
       "    </tr>\n",
       "  </thead>\n",
       "  <tbody>\n",
       "    <tr>\n",
       "      <th>count</th>\n",
       "      <td>1.000000e+04</td>\n",
       "      <td>10000.000000</td>\n",
       "      <td>9750.000000</td>\n",
       "      <td>4579.000000</td>\n",
       "      <td>4579.000000</td>\n",
       "      <td>9479.000000</td>\n",
       "      <td>9479.000000</td>\n",
       "      <td>359.000000</td>\n",
       "      <td>359.000000</td>\n",
       "      <td>5394.000000</td>\n",
       "      <td>...</td>\n",
       "      <td>9664.000000</td>\n",
       "      <td>2917.000000</td>\n",
       "      <td>9664.000000</td>\n",
       "      <td>9661.000000</td>\n",
       "      <td>356.000000</td>\n",
       "      <td>360.000000</td>\n",
       "      <td>332.000000</td>\n",
       "      <td>359.000000</td>\n",
       "      <td>360.000000</td>\n",
       "      <td>6836.000000</td>\n",
       "    </tr>\n",
       "    <tr>\n",
       "      <th>mean</th>\n",
       "      <td>3.006248e+06</td>\n",
       "      <td>-8.047200</td>\n",
       "      <td>135539.437026</td>\n",
       "      <td>0.098930</td>\n",
       "      <td>-0.074689</td>\n",
       "      <td>1.873615</td>\n",
       "      <td>-5.940395</td>\n",
       "      <td>13.164345</td>\n",
       "      <td>-39.506964</td>\n",
       "      <td>0.144049</td>\n",
       "      <td>...</td>\n",
       "      <td>180.751242</td>\n",
       "      <td>13.992458</td>\n",
       "      <td>362.886072</td>\n",
       "      <td>391.120070</td>\n",
       "      <td>430.553371</td>\n",
       "      <td>15.369444</td>\n",
       "      <td>13.075301</td>\n",
       "      <td>338.348189</td>\n",
       "      <td>152.558333</td>\n",
       "      <td>26.505559</td>\n",
       "    </tr>\n",
       "    <tr>\n",
       "      <th>std</th>\n",
       "      <td>9.699861e+03</td>\n",
       "      <td>13.671623</td>\n",
       "      <td>125720.300245</td>\n",
       "      <td>0.679248</td>\n",
       "      <td>0.758879</td>\n",
       "      <td>5.242873</td>\n",
       "      <td>16.160213</td>\n",
       "      <td>10.523889</td>\n",
       "      <td>28.826670</td>\n",
       "      <td>1.080745</td>\n",
       "      <td>...</td>\n",
       "      <td>27.118625</td>\n",
       "      <td>1.468909</td>\n",
       "      <td>146.623861</td>\n",
       "      <td>152.850582</td>\n",
       "      <td>219.355561</td>\n",
       "      <td>5.702432</td>\n",
       "      <td>2.061822</td>\n",
       "      <td>114.884585</td>\n",
       "      <td>31.891039</td>\n",
       "      <td>3.738269</td>\n",
       "    </tr>\n",
       "    <tr>\n",
       "      <th>min</th>\n",
       "      <td>2.987004e+06</td>\n",
       "      <td>-100.000000</td>\n",
       "      <td>1120.000000</td>\n",
       "      <td>-9.000000</td>\n",
       "      <td>-13.000000</td>\n",
       "      <td>-30.000000</td>\n",
       "      <td>-100.000000</td>\n",
       "      <td>-16.000000</td>\n",
       "      <td>-100.000000</td>\n",
       "      <td>-22.000000</td>\n",
       "      <td>...</td>\n",
       "      <td>100.000000</td>\n",
       "      <td>11.000000</td>\n",
       "      <td>100.000000</td>\n",
       "      <td>100.000000</td>\n",
       "      <td>114.000000</td>\n",
       "      <td>14.000000</td>\n",
       "      <td>11.000000</td>\n",
       "      <td>102.000000</td>\n",
       "      <td>100.000000</td>\n",
       "      <td>16.000000</td>\n",
       "    </tr>\n",
       "    <tr>\n",
       "      <th>25%</th>\n",
       "      <td>2.998165e+06</td>\n",
       "      <td>-5.000000</td>\n",
       "      <td>52055.500000</td>\n",
       "      <td>0.000000</td>\n",
       "      <td>0.000000</td>\n",
       "      <td>0.000000</td>\n",
       "      <td>-4.000000</td>\n",
       "      <td>4.000000</td>\n",
       "      <td>-50.000000</td>\n",
       "      <td>0.000000</td>\n",
       "      <td>...</td>\n",
       "      <td>166.000000</td>\n",
       "      <td>13.000000</td>\n",
       "      <td>266.000000</td>\n",
       "      <td>222.000000</td>\n",
       "      <td>252.000000</td>\n",
       "      <td>14.000000</td>\n",
       "      <td>11.000000</td>\n",
       "      <td>315.500000</td>\n",
       "      <td>121.000000</td>\n",
       "      <td>24.000000</td>\n",
       "    </tr>\n",
       "    <tr>\n",
       "      <th>50%</th>\n",
       "      <td>3.007364e+06</td>\n",
       "      <td>-5.000000</td>\n",
       "      <td>99010.000000</td>\n",
       "      <td>0.000000</td>\n",
       "      <td>0.000000</td>\n",
       "      <td>0.000000</td>\n",
       "      <td>0.000000</td>\n",
       "      <td>14.000000</td>\n",
       "      <td>-33.000000</td>\n",
       "      <td>0.000000</td>\n",
       "      <td>...</td>\n",
       "      <td>166.000000</td>\n",
       "      <td>15.000000</td>\n",
       "      <td>352.000000</td>\n",
       "      <td>401.000000</td>\n",
       "      <td>291.500000</td>\n",
       "      <td>14.000000</td>\n",
       "      <td>15.000000</td>\n",
       "      <td>321.000000</td>\n",
       "      <td>161.000000</td>\n",
       "      <td>24.000000</td>\n",
       "    </tr>\n",
       "    <tr>\n",
       "      <th>75%</th>\n",
       "      <td>3.014634e+06</td>\n",
       "      <td>0.000000</td>\n",
       "      <td>176180.250000</td>\n",
       "      <td>0.000000</td>\n",
       "      <td>0.000000</td>\n",
       "      <td>1.000000</td>\n",
       "      <td>0.000000</td>\n",
       "      <td>21.000000</td>\n",
       "      <td>-19.500000</td>\n",
       "      <td>0.000000</td>\n",
       "      <td>...</td>\n",
       "      <td>225.000000</td>\n",
       "      <td>15.000000</td>\n",
       "      <td>492.000000</td>\n",
       "      <td>533.000000</td>\n",
       "      <td>596.000000</td>\n",
       "      <td>14.000000</td>\n",
       "      <td>15.000000</td>\n",
       "      <td>426.000000</td>\n",
       "      <td>182.000000</td>\n",
       "      <td>32.000000</td>\n",
       "    </tr>\n",
       "    <tr>\n",
       "      <th>max</th>\n",
       "      <td>3.021387e+06</td>\n",
       "      <td>0.000000</td>\n",
       "      <td>998295.000000</td>\n",
       "      <td>9.000000</td>\n",
       "      <td>0.000000</td>\n",
       "      <td>52.000000</td>\n",
       "      <td>0.000000</td>\n",
       "      <td>39.000000</td>\n",
       "      <td>0.000000</td>\n",
       "      <td>14.000000</td>\n",
       "      <td>...</td>\n",
       "      <td>225.000000</td>\n",
       "      <td>26.000000</td>\n",
       "      <td>670.000000</td>\n",
       "      <td>638.000000</td>\n",
       "      <td>853.000000</td>\n",
       "      <td>41.000000</td>\n",
       "      <td>16.000000</td>\n",
       "      <td>533.000000</td>\n",
       "      <td>216.000000</td>\n",
       "      <td>32.000000</td>\n",
       "    </tr>\n",
       "  </tbody>\n",
       "</table>\n",
       "<p>8 rows × 24 columns</p>\n",
       "</div>"
      ],
      "text/plain": [
       "       TransactionID         id_01          id_02        id_03        id_04  \\\n",
       "count   1.000000e+04  10000.000000    9750.000000  4579.000000  4579.000000   \n",
       "mean    3.006248e+06     -8.047200  135539.437026     0.098930    -0.074689   \n",
       "std     9.699861e+03     13.671623  125720.300245     0.679248     0.758879   \n",
       "min     2.987004e+06   -100.000000    1120.000000    -9.000000   -13.000000   \n",
       "25%     2.998165e+06     -5.000000   52055.500000     0.000000     0.000000   \n",
       "50%     3.007364e+06     -5.000000   99010.000000     0.000000     0.000000   \n",
       "75%     3.014634e+06      0.000000  176180.250000     0.000000     0.000000   \n",
       "max     3.021387e+06      0.000000  998295.000000     9.000000     0.000000   \n",
       "\n",
       "             id_05        id_06       id_07       id_08        id_09  ...  \\\n",
       "count  9479.000000  9479.000000  359.000000  359.000000  5394.000000  ...   \n",
       "mean      1.873615    -5.940395   13.164345  -39.506964     0.144049  ...   \n",
       "std       5.242873    16.160213   10.523889   28.826670     1.080745  ...   \n",
       "min     -30.000000  -100.000000  -16.000000 -100.000000   -22.000000  ...   \n",
       "25%       0.000000    -4.000000    4.000000  -50.000000     0.000000  ...   \n",
       "50%       0.000000     0.000000   14.000000  -33.000000     0.000000  ...   \n",
       "75%       1.000000     0.000000   21.000000  -19.500000     0.000000  ...   \n",
       "max      52.000000     0.000000   39.000000    0.000000    14.000000  ...   \n",
       "\n",
       "             id_17        id_18        id_19        id_20       id_21  \\\n",
       "count  9664.000000  2917.000000  9664.000000  9661.000000  356.000000   \n",
       "mean    180.751242    13.992458   362.886072   391.120070  430.553371   \n",
       "std      27.118625     1.468909   146.623861   152.850582  219.355561   \n",
       "min     100.000000    11.000000   100.000000   100.000000  114.000000   \n",
       "25%     166.000000    13.000000   266.000000   222.000000  252.000000   \n",
       "50%     166.000000    15.000000   352.000000   401.000000  291.500000   \n",
       "75%     225.000000    15.000000   492.000000   533.000000  596.000000   \n",
       "max     225.000000    26.000000   670.000000   638.000000  853.000000   \n",
       "\n",
       "            id_22       id_24       id_25       id_26        id_32  \n",
       "count  360.000000  332.000000  359.000000  360.000000  6836.000000  \n",
       "mean    15.369444   13.075301  338.348189  152.558333    26.505559  \n",
       "std      5.702432    2.061822  114.884585   31.891039     3.738269  \n",
       "min     14.000000   11.000000  102.000000  100.000000    16.000000  \n",
       "25%     14.000000   11.000000  315.500000  121.000000    24.000000  \n",
       "50%     14.000000   15.000000  321.000000  161.000000    24.000000  \n",
       "75%     14.000000   15.000000  426.000000  182.000000    32.000000  \n",
       "max     41.000000   16.000000  533.000000  216.000000    32.000000  \n",
       "\n",
       "[8 rows x 24 columns]"
      ]
     },
     "execution_count": 27,
     "metadata": {},
     "output_type": "execute_result"
    }
   ],
   "source": [
    "train_identity_df.describe()"
   ]
  },
  {
   "cell_type": "code",
   "execution_count": 28,
   "id": "00779d39",
   "metadata": {},
   "outputs": [
    {
     "name": "stdout",
     "output_type": "stream",
     "text": [
      "The categorical columns in training data are:  ['id_12', 'id_33', 'DeviceType', 'id_16', 'id_36', 'id_23', 'DeviceInfo', 'id_37', 'id_28', 'id_31', 'id_34', 'id_29', 'id_27', 'id_30', 'id_38', 'id_35', 'id_15']\n",
      "The numerical columns in training data are:  Index(['TransactionID', 'id_01', 'id_02', 'id_03', 'id_04', 'id_05', 'id_06',\n",
      "       'id_07', 'id_08', 'id_09', 'id_10', 'id_11', 'id_13', 'id_14', 'id_17',\n",
      "       'id_18', 'id_19', 'id_20', 'id_21', 'id_22', 'id_24', 'id_25', 'id_26',\n",
      "       'id_32'],\n",
      "      dtype='object')\n"
     ]
    }
   ],
   "source": [
    "numericCols = train_identity_df._get_numeric_data().columns\n",
    "categoricalCols = list(set(train_identity_df) - set(numericCols))\n",
    "print('The categorical columns in training data are: ',categoricalCols)\n",
    "print('The numerical columns in training data are: ',numericCols)"
   ]
  },
  {
   "cell_type": "code",
   "execution_count": null,
   "id": "a221be79",
   "metadata": {},
   "outputs": [],
   "source": [
    "#Check missing data for identity dataset\n",
    "total = train_identity_df.isnull().sum().sort_values(ascending = False)\n",
    "percent = (train_identity_df.isnull().sum()/train_identity_df.isnull().count()*100).sort_values(ascending = False)\n",
    "pd.concat([total, percent], axis=1, keys=['Total', 'Percent']).transpose()"
   ]
  },
  {
   "cell_type": "code",
   "execution_count": 15,
   "id": "8b9e0023",
   "metadata": {},
   "outputs": [],
   "source": [
    "#there are many columns and some of them contains maximum null values, So we take some columns\n",
    "trans_column = ['TransactionID','isFraud','TransactionAmt','ProductCD','card1','card2','card4','card5','addr1','P_emaildomain','C1']\n",
    "id_column = ['id_01','id_03','id_17']"
   ]
  },
  {
   "cell_type": "code",
   "execution_count": 16,
   "id": "39f01604",
   "metadata": {},
   "outputs": [
    {
     "data": {
      "text/html": [
       "<div>\n",
       "<style scoped>\n",
       "    .dataframe tbody tr th:only-of-type {\n",
       "        vertical-align: middle;\n",
       "    }\n",
       "\n",
       "    .dataframe tbody tr th {\n",
       "        vertical-align: top;\n",
       "    }\n",
       "\n",
       "    .dataframe thead th {\n",
       "        text-align: right;\n",
       "    }\n",
       "</style>\n",
       "<table border=\"1\" class=\"dataframe\">\n",
       "  <thead>\n",
       "    <tr style=\"text-align: right;\">\n",
       "      <th></th>\n",
       "      <th>TransactionID</th>\n",
       "      <th>isFraud</th>\n",
       "      <th>TransactionAmt</th>\n",
       "      <th>card1</th>\n",
       "      <th>card2</th>\n",
       "      <th>card5</th>\n",
       "      <th>addr1</th>\n",
       "      <th>C1</th>\n",
       "    </tr>\n",
       "  </thead>\n",
       "  <tbody>\n",
       "    <tr>\n",
       "      <th>count</th>\n",
       "      <td>1.000000e+04</td>\n",
       "      <td>10000.000000</td>\n",
       "      <td>10000.000000</td>\n",
       "      <td>10000.000000</td>\n",
       "      <td>9881.000000</td>\n",
       "      <td>9978.000000</td>\n",
       "      <td>9087.000000</td>\n",
       "      <td>10000.000000</td>\n",
       "    </tr>\n",
       "    <tr>\n",
       "      <th>mean</th>\n",
       "      <td>2.992000e+06</td>\n",
       "      <td>0.026500</td>\n",
       "      <td>131.532165</td>\n",
       "      <td>9825.539700</td>\n",
       "      <td>349.267483</td>\n",
       "      <td>200.322008</td>\n",
       "      <td>292.443711</td>\n",
       "      <td>8.404800</td>\n",
       "    </tr>\n",
       "    <tr>\n",
       "      <th>std</th>\n",
       "      <td>2.886896e+03</td>\n",
       "      <td>0.160625</td>\n",
       "      <td>215.136534</td>\n",
       "      <td>4776.768939</td>\n",
       "      <td>157.779179</td>\n",
       "      <td>39.085677</td>\n",
       "      <td>103.678309</td>\n",
       "      <td>34.574136</td>\n",
       "    </tr>\n",
       "    <tr>\n",
       "      <th>min</th>\n",
       "      <td>2.987000e+06</td>\n",
       "      <td>0.000000</td>\n",
       "      <td>1.896000</td>\n",
       "      <td>1011.000000</td>\n",
       "      <td>100.000000</td>\n",
       "      <td>100.000000</td>\n",
       "      <td>110.000000</td>\n",
       "      <td>0.000000</td>\n",
       "    </tr>\n",
       "    <tr>\n",
       "      <th>25%</th>\n",
       "      <td>2.989500e+06</td>\n",
       "      <td>0.000000</td>\n",
       "      <td>44.000000</td>\n",
       "      <td>6381.000000</td>\n",
       "      <td>194.000000</td>\n",
       "      <td>166.000000</td>\n",
       "      <td>204.000000</td>\n",
       "      <td>1.000000</td>\n",
       "    </tr>\n",
       "    <tr>\n",
       "      <th>50%</th>\n",
       "      <td>2.992000e+06</td>\n",
       "      <td>0.000000</td>\n",
       "      <td>74.950000</td>\n",
       "      <td>9500.000000</td>\n",
       "      <td>327.000000</td>\n",
       "      <td>226.000000</td>\n",
       "      <td>299.000000</td>\n",
       "      <td>1.000000</td>\n",
       "    </tr>\n",
       "    <tr>\n",
       "      <th>75%</th>\n",
       "      <td>2.994499e+06</td>\n",
       "      <td>0.000000</td>\n",
       "      <td>131.058000</td>\n",
       "      <td>13780.000000</td>\n",
       "      <td>500.000000</td>\n",
       "      <td>226.000000</td>\n",
       "      <td>330.000000</td>\n",
       "      <td>3.000000</td>\n",
       "    </tr>\n",
       "    <tr>\n",
       "      <th>max</th>\n",
       "      <td>2.996999e+06</td>\n",
       "      <td>1.000000</td>\n",
       "      <td>3247.910000</td>\n",
       "      <td>18390.000000</td>\n",
       "      <td>600.000000</td>\n",
       "      <td>237.000000</td>\n",
       "      <td>536.000000</td>\n",
       "      <td>735.000000</td>\n",
       "    </tr>\n",
       "  </tbody>\n",
       "</table>\n",
       "</div>"
      ],
      "text/plain": [
       "       TransactionID       isFraud  TransactionAmt         card1        card2  \\\n",
       "count   1.000000e+04  10000.000000    10000.000000  10000.000000  9881.000000   \n",
       "mean    2.992000e+06      0.026500      131.532165   9825.539700   349.267483   \n",
       "std     2.886896e+03      0.160625      215.136534   4776.768939   157.779179   \n",
       "min     2.987000e+06      0.000000        1.896000   1011.000000   100.000000   \n",
       "25%     2.989500e+06      0.000000       44.000000   6381.000000   194.000000   \n",
       "50%     2.992000e+06      0.000000       74.950000   9500.000000   327.000000   \n",
       "75%     2.994499e+06      0.000000      131.058000  13780.000000   500.000000   \n",
       "max     2.996999e+06      1.000000     3247.910000  18390.000000   600.000000   \n",
       "\n",
       "             card5        addr1            C1  \n",
       "count  9978.000000  9087.000000  10000.000000  \n",
       "mean    200.322008   292.443711      8.404800  \n",
       "std      39.085677   103.678309     34.574136  \n",
       "min     100.000000   110.000000      0.000000  \n",
       "25%     166.000000   204.000000      1.000000  \n",
       "50%     226.000000   299.000000      1.000000  \n",
       "75%     226.000000   330.000000      3.000000  \n",
       "max     237.000000   536.000000    735.000000  "
      ]
     },
     "execution_count": 16,
     "metadata": {},
     "output_type": "execute_result"
    }
   ],
   "source": [
    "df_train_trans = train_transaction_df[trans_column].copy()\n",
    "df_train_trans.describe()"
   ]
  },
  {
   "cell_type": "code",
   "execution_count": 29,
   "id": "c18c9505",
   "metadata": {},
   "outputs": [
    {
     "data": {
      "text/html": [
       "<div>\n",
       "<style scoped>\n",
       "    .dataframe tbody tr th:only-of-type {\n",
       "        vertical-align: middle;\n",
       "    }\n",
       "\n",
       "    .dataframe tbody tr th {\n",
       "        vertical-align: top;\n",
       "    }\n",
       "\n",
       "    .dataframe thead th {\n",
       "        text-align: right;\n",
       "    }\n",
       "</style>\n",
       "<table border=\"1\" class=\"dataframe\">\n",
       "  <thead>\n",
       "    <tr style=\"text-align: right;\">\n",
       "      <th></th>\n",
       "      <th>id_01</th>\n",
       "      <th>id_03</th>\n",
       "      <th>id_17</th>\n",
       "    </tr>\n",
       "  </thead>\n",
       "  <tbody>\n",
       "    <tr>\n",
       "      <th>count</th>\n",
       "      <td>10000.000000</td>\n",
       "      <td>4579.000000</td>\n",
       "      <td>9664.000000</td>\n",
       "    </tr>\n",
       "    <tr>\n",
       "      <th>mean</th>\n",
       "      <td>-8.047200</td>\n",
       "      <td>0.098930</td>\n",
       "      <td>180.751242</td>\n",
       "    </tr>\n",
       "    <tr>\n",
       "      <th>std</th>\n",
       "      <td>13.671623</td>\n",
       "      <td>0.679248</td>\n",
       "      <td>27.118625</td>\n",
       "    </tr>\n",
       "    <tr>\n",
       "      <th>min</th>\n",
       "      <td>-100.000000</td>\n",
       "      <td>-9.000000</td>\n",
       "      <td>100.000000</td>\n",
       "    </tr>\n",
       "    <tr>\n",
       "      <th>25%</th>\n",
       "      <td>-5.000000</td>\n",
       "      <td>0.000000</td>\n",
       "      <td>166.000000</td>\n",
       "    </tr>\n",
       "    <tr>\n",
       "      <th>50%</th>\n",
       "      <td>-5.000000</td>\n",
       "      <td>0.000000</td>\n",
       "      <td>166.000000</td>\n",
       "    </tr>\n",
       "    <tr>\n",
       "      <th>75%</th>\n",
       "      <td>0.000000</td>\n",
       "      <td>0.000000</td>\n",
       "      <td>225.000000</td>\n",
       "    </tr>\n",
       "    <tr>\n",
       "      <th>max</th>\n",
       "      <td>0.000000</td>\n",
       "      <td>9.000000</td>\n",
       "      <td>225.000000</td>\n",
       "    </tr>\n",
       "  </tbody>\n",
       "</table>\n",
       "</div>"
      ],
      "text/plain": [
       "              id_01        id_03        id_17\n",
       "count  10000.000000  4579.000000  9664.000000\n",
       "mean      -8.047200     0.098930   180.751242\n",
       "std       13.671623     0.679248    27.118625\n",
       "min     -100.000000    -9.000000   100.000000\n",
       "25%       -5.000000     0.000000   166.000000\n",
       "50%       -5.000000     0.000000   166.000000\n",
       "75%        0.000000     0.000000   225.000000\n",
       "max        0.000000     9.000000   225.000000"
      ]
     },
     "execution_count": 29,
     "metadata": {},
     "output_type": "execute_result"
    }
   ],
   "source": [
    "df_train_identity = train_identity_df[id_column].copy()\n",
    "df_train_identity.describe()"
   ]
  },
  {
   "cell_type": "code",
   "execution_count": 18,
   "id": "39e77c16",
   "metadata": {},
   "outputs": [],
   "source": [
    "#Join Transaction and Identity dataset\n",
    "train_df = df_train_trans.merge(df_train_identity, how='left', left_index=True, right_index=True)"
   ]
  },
  {
   "cell_type": "code",
   "execution_count": 19,
   "id": "8c2db6e7",
   "metadata": {},
   "outputs": [
    {
     "data": {
      "text/html": [
       "<div>\n",
       "<style scoped>\n",
       "    .dataframe tbody tr th:only-of-type {\n",
       "        vertical-align: middle;\n",
       "    }\n",
       "\n",
       "    .dataframe tbody tr th {\n",
       "        vertical-align: top;\n",
       "    }\n",
       "\n",
       "    .dataframe thead th {\n",
       "        text-align: right;\n",
       "    }\n",
       "</style>\n",
       "<table border=\"1\" class=\"dataframe\">\n",
       "  <thead>\n",
       "    <tr style=\"text-align: right;\">\n",
       "      <th></th>\n",
       "      <th>TransactionID</th>\n",
       "      <th>isFraud</th>\n",
       "      <th>TransactionAmt</th>\n",
       "      <th>ProductCD</th>\n",
       "      <th>card1</th>\n",
       "      <th>card2</th>\n",
       "      <th>card4</th>\n",
       "      <th>card5</th>\n",
       "      <th>addr1</th>\n",
       "      <th>P_emaildomain</th>\n",
       "      <th>C1</th>\n",
       "      <th>id_01</th>\n",
       "      <th>id_03</th>\n",
       "      <th>id_17</th>\n",
       "    </tr>\n",
       "  </thead>\n",
       "  <tbody>\n",
       "    <tr>\n",
       "      <th>0</th>\n",
       "      <td>2987000</td>\n",
       "      <td>0</td>\n",
       "      <td>68.5</td>\n",
       "      <td>W</td>\n",
       "      <td>13926</td>\n",
       "      <td>NaN</td>\n",
       "      <td>discover</td>\n",
       "      <td>142.0</td>\n",
       "      <td>315.0</td>\n",
       "      <td>NaN</td>\n",
       "      <td>1.0</td>\n",
       "      <td>0.0</td>\n",
       "      <td>NaN</td>\n",
       "      <td>166.0</td>\n",
       "    </tr>\n",
       "    <tr>\n",
       "      <th>1</th>\n",
       "      <td>2987001</td>\n",
       "      <td>0</td>\n",
       "      <td>29.0</td>\n",
       "      <td>W</td>\n",
       "      <td>2755</td>\n",
       "      <td>404.0</td>\n",
       "      <td>mastercard</td>\n",
       "      <td>102.0</td>\n",
       "      <td>325.0</td>\n",
       "      <td>gmail.com</td>\n",
       "      <td>1.0</td>\n",
       "      <td>-5.0</td>\n",
       "      <td>NaN</td>\n",
       "      <td>166.0</td>\n",
       "    </tr>\n",
       "    <tr>\n",
       "      <th>2</th>\n",
       "      <td>2987002</td>\n",
       "      <td>0</td>\n",
       "      <td>59.0</td>\n",
       "      <td>W</td>\n",
       "      <td>4663</td>\n",
       "      <td>490.0</td>\n",
       "      <td>visa</td>\n",
       "      <td>166.0</td>\n",
       "      <td>330.0</td>\n",
       "      <td>outlook.com</td>\n",
       "      <td>1.0</td>\n",
       "      <td>-5.0</td>\n",
       "      <td>0.0</td>\n",
       "      <td>121.0</td>\n",
       "    </tr>\n",
       "    <tr>\n",
       "      <th>3</th>\n",
       "      <td>2987003</td>\n",
       "      <td>0</td>\n",
       "      <td>50.0</td>\n",
       "      <td>W</td>\n",
       "      <td>18132</td>\n",
       "      <td>567.0</td>\n",
       "      <td>mastercard</td>\n",
       "      <td>117.0</td>\n",
       "      <td>476.0</td>\n",
       "      <td>yahoo.com</td>\n",
       "      <td>2.0</td>\n",
       "      <td>-5.0</td>\n",
       "      <td>NaN</td>\n",
       "      <td>225.0</td>\n",
       "    </tr>\n",
       "    <tr>\n",
       "      <th>4</th>\n",
       "      <td>2987004</td>\n",
       "      <td>0</td>\n",
       "      <td>50.0</td>\n",
       "      <td>H</td>\n",
       "      <td>4497</td>\n",
       "      <td>514.0</td>\n",
       "      <td>mastercard</td>\n",
       "      <td>102.0</td>\n",
       "      <td>420.0</td>\n",
       "      <td>gmail.com</td>\n",
       "      <td>1.0</td>\n",
       "      <td>0.0</td>\n",
       "      <td>0.0</td>\n",
       "      <td>166.0</td>\n",
       "    </tr>\n",
       "  </tbody>\n",
       "</table>\n",
       "</div>"
      ],
      "text/plain": [
       "   TransactionID  isFraud  TransactionAmt ProductCD  card1  card2       card4  \\\n",
       "0        2987000        0            68.5         W  13926    NaN    discover   \n",
       "1        2987001        0            29.0         W   2755  404.0  mastercard   \n",
       "2        2987002        0            59.0         W   4663  490.0        visa   \n",
       "3        2987003        0            50.0         W  18132  567.0  mastercard   \n",
       "4        2987004        0            50.0         H   4497  514.0  mastercard   \n",
       "\n",
       "   card5  addr1 P_emaildomain   C1  id_01  id_03  id_17  \n",
       "0  142.0  315.0           NaN  1.0    0.0    NaN  166.0  \n",
       "1  102.0  325.0     gmail.com  1.0   -5.0    NaN  166.0  \n",
       "2  166.0  330.0   outlook.com  1.0   -5.0    0.0  121.0  \n",
       "3  117.0  476.0     yahoo.com  2.0   -5.0    NaN  225.0  \n",
       "4  102.0  420.0     gmail.com  1.0    0.0    0.0  166.0  "
      ]
     },
     "execution_count": 19,
     "metadata": {},
     "output_type": "execute_result"
    }
   ],
   "source": [
    "train_df.head()"
   ]
  },
  {
   "cell_type": "code",
   "execution_count": 20,
   "id": "7bec0706",
   "metadata": {},
   "outputs": [
    {
     "name": "stdout",
     "output_type": "stream",
     "text": [
      "<class 'pandas.core.frame.DataFrame'>\n",
      "RangeIndex: 10000 entries, 0 to 9999\n",
      "Data columns (total 14 columns):\n",
      " #   Column          Non-Null Count  Dtype  \n",
      "---  ------          --------------  -----  \n",
      " 0   TransactionID   10000 non-null  int64  \n",
      " 1   isFraud         10000 non-null  int64  \n",
      " 2   TransactionAmt  10000 non-null  float64\n",
      " 3   ProductCD       10000 non-null  object \n",
      " 4   card1           10000 non-null  int64  \n",
      " 5   card2           9881 non-null   float64\n",
      " 6   card4           9999 non-null   object \n",
      " 7   card5           9978 non-null   float64\n",
      " 8   addr1           9087 non-null   float64\n",
      " 9   P_emaildomain   7895 non-null   object \n",
      " 10  C1              10000 non-null  float64\n",
      " 11  id_01           10000 non-null  float64\n",
      " 12  id_03           4579 non-null   float64\n",
      " 13  id_17           9664 non-null   float64\n",
      "dtypes: float64(8), int64(3), object(3)\n",
      "memory usage: 1.1+ MB\n"
     ]
    }
   ],
   "source": [
    "train_df.info()"
   ]
  },
  {
   "cell_type": "code",
   "execution_count": 21,
   "id": "e28fec2a",
   "metadata": {},
   "outputs": [
    {
     "data": {
      "text/plain": [
       "TransactionID        0\n",
       "isFraud              0\n",
       "TransactionAmt       0\n",
       "ProductCD            0\n",
       "card1                0\n",
       "card2              119\n",
       "card4                1\n",
       "card5               22\n",
       "addr1              913\n",
       "P_emaildomain     2105\n",
       "C1                   0\n",
       "id_01                0\n",
       "id_03             5421\n",
       "id_17              336\n",
       "dtype: int64"
      ]
     },
     "execution_count": 21,
     "metadata": {},
     "output_type": "execute_result"
    }
   ],
   "source": [
    "train_df.isnull().sum()"
   ]
  },
  {
   "cell_type": "code",
   "execution_count": null,
   "id": "3b34aa50",
   "metadata": {},
   "outputs": [],
   "source": [
    "#clean columns\n",
    "#function to clean columns containing numerical values\n",
    "def impute_median(df, column_name):\n",
    "    median_value = df[~df[column_name].astype(str).str.contains('NA')][column_name].astype(float).median()\n",
    "    df.loc[df[column_name].astype(str).str.contains('NA'), column_name] = median_value\n",
    "    df[column_name] = df[column_name].fillna(median_value)\n",
    "    \n",
    "    return df\n",
    "\n",
    "#clean column card2\n",
    "train_df = impute_median(train_df, 'card2')\n",
    "\n",
    "#clean column card5\n",
    "train_df = impute_median(train_df, 'card5')\n",
    "\n",
    "#clean column id_25\n",
    "#train_df = impute_median(train_df, 'id_25')\n",
    "\n",
    "#clean column addr1\n",
    "train_df = impute_median(train_df, 'addr1')\n",
    "\n",
    "#clean column id_03\n",
    "train_df = impute_median(train_df, 'id_03')\n",
    "\n",
    "#clean column id_17\n",
    "train_df = impute_median(train_df, 'id_17')\n",
    "\n",
    "#clean column V1\n",
    "#train_df = impute_median(train_df, 'V1')\n"
   ]
  },
  {
   "cell_type": "code",
   "execution_count": null,
   "id": "976cd0c2",
   "metadata": {},
   "outputs": [],
   "source": [
    "train_df.isnull().sum()"
   ]
  },
  {
   "cell_type": "code",
   "execution_count": null,
   "id": "3d3b3ad6",
   "metadata": {},
   "outputs": [],
   "source": [
    "#Clean categorical columns\n",
    "#train_df['card4'].value_counts()\n",
    "train_df['card4'] = train_df['card4'].fillna('visa')"
   ]
  },
  {
   "cell_type": "code",
   "execution_count": null,
   "id": "9baa9754",
   "metadata": {},
   "outputs": [],
   "source": [
    "#clean column P_emaildomain\n",
    "#train_df['P_emaildomain'].value_counts()\n",
    "train_df['P_emaildomain'] = train_df['P_emaildomain'].fillna('gmail.com')"
   ]
  },
  {
   "cell_type": "code",
   "execution_count": null,
   "id": "94cad7d5",
   "metadata": {},
   "outputs": [],
   "source": [
    "#Clean column R_emaildomain\n",
    "#train_df['R_emaildomain'].value_counts()\n",
    "#train_df['R_emaildomain'] = train_df['R_emaildomain'].fillna('gmail.com')"
   ]
  },
  {
   "cell_type": "code",
   "execution_count": null,
   "id": "b074dcbf",
   "metadata": {},
   "outputs": [],
   "source": [
    "#clean column DeviceType\n",
    "#train_df['DeviceType'].value_counts()\n",
    "#train_df['DeviceType'] = train_df['DeviceType'].fillna('desktop')"
   ]
  },
  {
   "cell_type": "code",
   "execution_count": null,
   "id": "88e82402",
   "metadata": {},
   "outputs": [],
   "source": [
    "#clean column DeviceInfo\n",
    "#train_df['DeviceInfo'].value_counts()\n",
    "#train_df['DeviceInfo'] = train_df['DeviceInfo'].fillna('Windows')"
   ]
  },
  {
   "cell_type": "code",
   "execution_count": null,
   "id": "33500883",
   "metadata": {},
   "outputs": [],
   "source": [
    "train_df.isnull().sum()"
   ]
  },
  {
   "cell_type": "code",
   "execution_count": 22,
   "id": "171838bb",
   "metadata": {},
   "outputs": [
    {
     "data": {
      "text/plain": [
       "isFraud\n",
       "0    9735\n",
       "1     265\n",
       "Name: count, dtype: int64"
      ]
     },
     "execution_count": 22,
     "metadata": {},
     "output_type": "execute_result"
    }
   ],
   "source": [
    "#Data exploration\n",
    "train_df['isFraud'].value_counts()"
   ]
  },
  {
   "cell_type": "code",
   "execution_count": 23,
   "id": "368a9501",
   "metadata": {},
   "outputs": [
    {
     "data": {
      "image/png": "[encoded data removed]",
      "text/plain": [
       "<Figure size 640x480 with 1 Axes>"
      ]
     },
     "metadata": {},
     "output_type": "display_data"
    }
   ],
   "source": [
    "sns.countplot(x = 'isFraud', data = train_df, palette='hls', )\n",
    "plt.show()"
   ]
  },
  {
   "cell_type": "code",
   "execution_count": null,
   "id": "dfe9ba72",
   "metadata": {},
   "outputs": [],
   "source": [
    "count_no_fraud = len(train_df[train_df['isFraud']==0])\n",
    "count_fraud = len(train_df[train_df['isFraud']==1])\n",
    "pct_of_no_fraud = count_no_fraud/(count_no_fraud + count_fraud)\n",
    "print(\"percentage of not fraud transaction is\", pct_of_no_fraud*100)\n",
    "pct_of_sub = count_fraud/(count_no_fraud + count_fraud)\n",
    "print(\"percentage of fraud transaction is\", pct_of_sub*100)"
   ]
  },
  {
   "cell_type": "code",
   "execution_count": 24,
   "id": "a9f3d087",
   "metadata": {},
   "outputs": [
    {
     "data": {
      "text/html": [
       "<div>\n",
       "<style scoped>\n",
       "    .dataframe tbody tr th:only-of-type {\n",
       "        vertical-align: middle;\n",
       "    }\n",
       "\n",
       "    .dataframe tbody tr th {\n",
       "        vertical-align: top;\n",
       "    }\n",
       "\n",
       "    .dataframe thead th {\n",
       "        text-align: right;\n",
       "    }\n",
       "</style>\n",
       "<table border=\"1\" class=\"dataframe\">\n",
       "  <thead>\n",
       "    <tr style=\"text-align: right;\">\n",
       "      <th></th>\n",
       "      <th>TransactionID</th>\n",
       "      <th>TransactionAmt</th>\n",
       "      <th>card1</th>\n",
       "      <th>card2</th>\n",
       "      <th>card5</th>\n",
       "      <th>addr1</th>\n",
       "      <th>C1</th>\n",
       "      <th>id_01</th>\n",
       "      <th>id_03</th>\n",
       "      <th>id_17</th>\n",
       "    </tr>\n",
       "    <tr>\n",
       "      <th>isFraud</th>\n",
       "      <th></th>\n",
       "      <th></th>\n",
       "      <th></th>\n",
       "      <th></th>\n",
       "      <th></th>\n",
       "      <th></th>\n",
       "      <th></th>\n",
       "      <th></th>\n",
       "      <th></th>\n",
       "      <th></th>\n",
       "    </tr>\n",
       "  </thead>\n",
       "  <tbody>\n",
       "    <tr>\n",
       "      <th>0</th>\n",
       "      <td>2.991985e+06</td>\n",
       "      <td>131.034187</td>\n",
       "      <td>9864.293888</td>\n",
       "      <td>349.002911</td>\n",
       "      <td>200.454153</td>\n",
       "      <td>292.542396</td>\n",
       "      <td>8.351104</td>\n",
       "      <td>-8.037699</td>\n",
       "      <td>0.099530</td>\n",
       "      <td>180.786307</td>\n",
       "    </tr>\n",
       "    <tr>\n",
       "      <th>1</th>\n",
       "      <td>2.992524e+06</td>\n",
       "      <td>149.825823</td>\n",
       "      <td>8401.871698</td>\n",
       "      <td>359.019157</td>\n",
       "      <td>195.402299</td>\n",
       "      <td>287.298246</td>\n",
       "      <td>10.377358</td>\n",
       "      <td>-8.396226</td>\n",
       "      <td>0.074074</td>\n",
       "      <td>179.472868</td>\n",
       "    </tr>\n",
       "  </tbody>\n",
       "</table>\n",
       "</div>"
      ],
      "text/plain": [
       "         TransactionID  TransactionAmt        card1       card2       card5  \\\n",
       "isFraud                                                                       \n",
       "0         2.991985e+06      131.034187  9864.293888  349.002911  200.454153   \n",
       "1         2.992524e+06      149.825823  8401.871698  359.019157  195.402299   \n",
       "\n",
       "              addr1         C1     id_01     id_03       id_17  \n",
       "isFraud                                                         \n",
       "0        292.542396   8.351104 -8.037699  0.099530  180.786307  \n",
       "1        287.298246  10.377358 -8.396226  0.074074  179.472868  "
      ]
     },
     "execution_count": 24,
     "metadata": {},
     "output_type": "execute_result"
    }
   ],
   "source": [
    "train_df.groupby('isFraud').mean(numeric_only=True)"
   ]
  },
  {
   "cell_type": "code",
   "execution_count": null,
   "id": "61f85439",
   "metadata": {},
   "outputs": [],
   "source": [
    "#Visualization\n",
    "%matplotlib inline\n",
    "pd.crosstab(train_df.ProductCD,train_df.isFraud).plot(kind='bar')\n",
    "plt.title('No. of transactions for ProductCD')\n",
    "plt.xlabel('ProductCD')\n",
    "plt.ylabel('No. of transaction')\n",
    "#plt.savefig('purchase_fre_job')"
   ]
  },
  {
   "cell_type": "code",
   "execution_count": 26,
   "id": "b3db2817",
   "metadata": {},
   "outputs": [
    {
     "data": {
      "text/plain": [
       "Text(0, 0.5, 'No. of transaction')"
      ]
     },
     "execution_count": 26,
     "metadata": {},
     "output_type": "execute_result"
    },
    {
     "data": {
      "image/png": "[encoded data removed]",
      "text/plain": [
       "<Figure size 640x480 with 1 Axes>"
      ]
     },
     "metadata": {},
     "output_type": "display_data"
    }
   ],
   "source": [
    "%matplotlib inline\n",
    "pd.crosstab(train_df.card4,train_df.isFraud).plot(kind='bar')\n",
    "plt.title('No. of transactions for card type')\n",
    "plt.xlabel('Card Type')\n",
    "plt.ylabel('No. of transaction')\n",
    "#plt.savefig('purchase_fre_job')"
   ]
  },
  {
   "cell_type": "code",
   "execution_count": 25,
   "id": "30134c71",
   "metadata": {},
   "outputs": [
    {
     "data": {
      "text/plain": [
       "Text(0, 0.5, 'No. of transaction')"
      ]
     },
     "execution_count": 25,
     "metadata": {},
     "output_type": "execute_result"
    },
    {
     "data": {
      "image/png": "[encoded data removed]",
      "text/plain": [
       "<Figure size 640x480 with 1 Axes>"
      ]
     },
     "metadata": {},
     "output_type": "display_data"
    }
   ],
   "source": [
    "%matplotlib inline\n",
    "pd.crosstab(train_df.P_emaildomain,train_df.isFraud).plot(kind='bar')\n",
    "plt.title('No. of transactions for Email domain')\n",
    "plt.xlabel('Emaildomain')\n",
    "plt.ylabel('No. of transaction')\n",
    "#plt.savefig('purchase_fre_job')\n"
   ]
  },
  {
   "cell_type": "code",
   "execution_count": null,
   "id": "f3424612",
   "metadata": {},
   "outputs": [],
   "source": [
    "train_df.corr(numeric_only=True)"
   ]
  },
  {
   "cell_type": "code",
   "execution_count": null,
   "id": "35d88474",
   "metadata": {
    "scrolled": true
   },
   "outputs": [],
   "source": [
    "sns.heatmap(train_df.corr(numeric_only=True), center=0)"
   ]
  },
  {
   "cell_type": "code",
   "execution_count": null,
   "id": "e3c3f4d7",
   "metadata": {},
   "outputs": [],
   "source": [
    "#check data for test transaction\n",
    "test_transaction_df.describe()"
   ]
  },
  {
   "cell_type": "code",
   "execution_count": null,
   "id": "6849682d",
   "metadata": {},
   "outputs": [],
   "source": [
    "test_transaction_df.head()"
   ]
  },
  {
   "cell_type": "code",
   "execution_count": null,
   "id": "12e69591",
   "metadata": {},
   "outputs": [],
   "source": [
    "print(\"Credit Card Fraud Detection data set of Test transaction -  rows:\",test_transaction_df.shape[0],\" columns:\", test_transaction_df.shape[1])"
   ]
  },
  {
   "cell_type": "code",
   "execution_count": null,
   "id": "b2b53949",
   "metadata": {},
   "outputs": [],
   "source": [
    "total = test_identity_df.isnull().sum().sort_values(ascending = False)\n",
    "percent = (test_identity_df.isnull().sum()/test_identity_df.isnull().count()*100).sort_values(ascending = False)\n",
    "pd.concat([total, percent], axis=1, keys=['Total', 'Percent']).transpose()"
   ]
  },
  {
   "cell_type": "code",
   "execution_count": null,
   "id": "9dc6dec4",
   "metadata": {},
   "outputs": [],
   "source": [
    "#Test data preparation\n",
    "test_trans_column = ['TransactionID','TransactionAmt','ProductCD','card1','card2','card4','card5','addr1','P_emaildomain', 'C1']\n",
    "test_id_column = ['id-01','id-03','id-17']"
   ]
  },
  {
   "cell_type": "code",
   "execution_count": null,
   "id": "4a0144ff",
   "metadata": {},
   "outputs": [],
   "source": [
    "df_test_trans = test_transaction_df[test_trans_column].copy()\n",
    "df_test_trans.info()"
   ]
  },
  {
   "cell_type": "code",
   "execution_count": null,
   "id": "5b259c07",
   "metadata": {},
   "outputs": [],
   "source": [
    "df_test_identity = test_identity_df[test_id_column].copy()\n",
    "df_test_identity.info()"
   ]
  },
  {
   "cell_type": "code",
   "execution_count": null,
   "id": "7d954c9a",
   "metadata": {},
   "outputs": [],
   "source": [
    "#Join Transaction and Identity for test dataset\n",
    "test_df = df_test_trans.merge(df_test_identity, how='left', left_index=True, right_index=True)"
   ]
  },
  {
   "cell_type": "code",
   "execution_count": null,
   "id": "e94f9838",
   "metadata": {},
   "outputs": [],
   "source": [
    "test_df.info()"
   ]
  },
  {
   "cell_type": "code",
   "execution_count": null,
   "id": "f1eb1162",
   "metadata": {},
   "outputs": [],
   "source": [
    "#clean the numeric test data\n",
    "\n",
    "#clean column card2\n",
    "test_df = impute_median(test_df, 'card2')\n",
    "\n",
    "#clean column card5\n",
    "test_df = impute_median(test_df, 'card5')\n",
    "\n",
    "#clean column id_25\n",
    "#test_df = impute_median(test_df, 'id-25')\n",
    "\n",
    "#clean column addr1\n",
    "test_df = impute_median(test_df, 'addr1')\n",
    "\n",
    "#clean column id_3\n",
    "test_df = impute_median(test_df, 'id-03')\n",
    "\n",
    "#clean column id_17\n",
    "test_df = impute_median(test_df, 'id-17')\n",
    "\n",
    "#clean column V1\n",
    "#test_df = impute_median(test_df, 'V1')"
   ]
  },
  {
   "cell_type": "code",
   "execution_count": null,
   "id": "eacb74ba",
   "metadata": {},
   "outputs": [],
   "source": [
    "#clean categorical data\n",
    "test_df['card4'].value_counts()"
   ]
  },
  {
   "cell_type": "code",
   "execution_count": null,
   "id": "e318b915",
   "metadata": {},
   "outputs": [],
   "source": [
    "test_df['card4'] = test_df['card4'].fillna('visa')"
   ]
  },
  {
   "cell_type": "code",
   "execution_count": null,
   "id": "8aaf0288",
   "metadata": {},
   "outputs": [],
   "source": [
    "#clean P_emaildomain\n",
    "test_df['P_emaildomain'].value_counts()"
   ]
  },
  {
   "cell_type": "code",
   "execution_count": null,
   "id": "862f73e1",
   "metadata": {},
   "outputs": [],
   "source": [
    "test_df['P_emaildomain'] = test_df['P_emaildomain'].fillna('gmail.com')"
   ]
  },
  {
   "cell_type": "code",
   "execution_count": null,
   "id": "071ca211",
   "metadata": {},
   "outputs": [],
   "source": [
    "test_df.isnull().sum()"
   ]
  },
  {
   "cell_type": "code",
   "execution_count": null,
   "id": "4298aa3a",
   "metadata": {},
   "outputs": [],
   "source": [
    "#Rename the column of test data as per train data\n",
    "test_df.rename(\n",
    "    columns={\"id-01\": \"id_01\", \"id-03\": \"id_03\", \"id-17\": \"id_17\", \"id-17\": \"id_17\"},\n",
    "    inplace=True,\n",
    ")"
   ]
  },
  {
   "cell_type": "code",
   "execution_count": null,
   "id": "c8db49f4",
   "metadata": {},
   "outputs": [],
   "source": [
    "#categorical columns in traing data\n",
    "numericCols = train_df._get_numeric_data().columns\n",
    "categoricalCols = list(set(train_df) - set(numericCols))\n",
    "print('The categorical columns in training data are: ',categoricalCols)"
   ]
  },
  {
   "cell_type": "code",
   "execution_count": null,
   "id": "128408dc",
   "metadata": {},
   "outputs": [],
   "source": [
    "test_df.columns"
   ]
  },
  {
   "cell_type": "code",
   "execution_count": null,
   "id": "22061beb",
   "metadata": {
    "scrolled": true
   },
   "outputs": [],
   "source": [
    "train_df.columns"
   ]
  },
  {
   "cell_type": "code",
   "execution_count": null,
   "id": "6282c02e",
   "metadata": {},
   "outputs": [],
   "source": [
    "#seperating the X and the Y from the dataset\n",
    "X=train_df.loc[:, ['TransactionAmt', 'card1', 'card2', 'card5', 'addr1', 'id_01', 'id_03', 'id_17','C1']]\n",
    "Y=train_df[\"isFraud\"]\n",
    "print(X.shape)\n",
    "print(Y.shape)\n",
    "#getting just the values for the sake of processing (its a numpy array with no columns)\n",
    "X_data=X.values\n",
    "Y_data=Y.values"
   ]
  },
  {
   "cell_type": "code",
   "execution_count": null,
   "id": "c78ef010",
   "metadata": {},
   "outputs": [],
   "source": [
    "print(X_data.tolist())"
   ]
  },
  {
   "cell_type": "code",
   "execution_count": null,
   "id": "99c5e72a",
   "metadata": {},
   "outputs": [],
   "source": [
    "X_train = X_data\n",
    "Y_train = Y_data"
   ]
  },
  {
   "cell_type": "code",
   "execution_count": null,
   "id": "574133e3",
   "metadata": {},
   "outputs": [],
   "source": [
    "print(Y_train.tolist())"
   ]
  },
  {
   "cell_type": "code",
   "execution_count": null,
   "id": "46486c6b",
   "metadata": {},
   "outputs": [],
   "source": [
    "X1=test_df.loc[:, ['TransactionAmt', 'card1', 'card2', 'card5', 'addr1', 'id_01', 'id_03', 'id_17','C1']]\n",
    "X_test = X1.values\n",
    "X_test"
   ]
  },
  {
   "cell_type": "code",
   "execution_count": null,
   "id": "774749ee",
   "metadata": {},
   "outputs": [],
   "source": [
    "# random forest model creation\n",
    "rfc = RandomForestClassifier(max_depth=2, random_state=0)\n",
    "rfc.fit(X_train,Y_train)\n",
    "# predictions\n",
    "y_pred = rfc.predict(X_test)"
   ]
  },
  {
   "cell_type": "code",
   "execution_count": null,
   "id": "c3b58620",
   "metadata": {},
   "outputs": [],
   "source": [
    "#y_pred\n",
    "print(y_pred.tolist())"
   ]
  },
  {
   "cell_type": "code",
   "execution_count": null,
   "id": "3ad9fcf9",
   "metadata": {},
   "outputs": [],
   "source": [
    "#Cross validation to get model performance score\n",
    "from sklearn.model_selection import cross_val_score\n",
    "#clf = svm.SVC(kernel='linear', C=1, random_state=42)\n",
    "scores = cross_val_score(rfc, X, Y, cv=5)\n",
    "scores"
   ]
  },
  {
   "cell_type": "code",
   "execution_count": null,
   "id": "9feefd28",
   "metadata": {},
   "outputs": [],
   "source": [
    "#Evaluating the classifier\n",
    "#printing every score of the classifier\n",
    "#scoring in any thing\n",
    "#from sklearn.metrics import classification_report, accuracy_score,precision_score,recall_score,f1_score,matthews_corrcoef\n",
    "#from sklearn.metrics import confusion_matrix\n",
    "\n",
    "'''\n",
    "Fraud = train_df[train_df['isFraud'] == 1]\n",
    "Valid = train_df[train_df['isFraud'] == 0]\n",
    "n_outliers = len(Fraud)\n",
    "n_errors = (y_pred != Y_test).sum()\n",
    "print(\"The model used is Random Forest classifier\")\n",
    "acc= accuracy_score(Y_test,y_pred)\n",
    "print(\"The accuracy is  {}\".format(acc))\n",
    "prec= precision_score(Y_test,y_pred)\n",
    "print(\"The precision is {}\".format(prec))\n",
    "rec= recall_score(Y_test,y_pred)\n",
    "print(\"The recall is {}\".format(rec))\n",
    "f1= f1_score(Y_test,y_pred)\n",
    "print(\"The F1-Score is {}\".format(f1))\n",
    "#MCC=matthews_corrcoef(Y_test,y_pred)\n",
    "#print(\"The Matthews correlation coefficient is {}\".format(MCC))\n",
    "\n",
    "'''"
   ]
  },
  {
   "cell_type": "code",
   "execution_count": null,
   "id": "4a2b0570",
   "metadata": {},
   "outputs": [],
   "source": [
    "#printing the confusion matrix For Random forest classifier\n",
    "'''\n",
    "LABELS = ['Normal', 'Fraud']\n",
    "conf_matrix = confusion_matrix(Y_test, y_pred)\n",
    "plt.figure(figsize=(5, 5))\n",
    "sns.heatmap(conf_matrix, xticklabels=LABELS, yticklabels=LABELS, annot=True, fmt=\"d\");\n",
    "plt.title(\"Confusion matrix\")\n",
    "plt.ylabel('True class')\n",
    "plt.xlabel('Predicted class')\n",
    "plt.show()\n",
    "\n",
    "# Run classification metrics\n",
    "plt.figure(figsize=(9, 7))\n",
    "print('{}: {}'.format(\"Random Forest\", n_errors))\n",
    "print(accuracy_score(Y_test, y_pred))\n",
    "print(classification_report(Y_test, y_pred))\n",
    "'''"
   ]
  },
  {
   "cell_type": "code",
   "execution_count": null,
   "id": "b86dcdee",
   "metadata": {},
   "outputs": [],
   "source": [
    "#Logistic regression\n",
    "X1=test_df.loc[:, ['TransactionAmt', 'card1', 'card2', 'card5', 'addr1', 'id_01', 'id_03', 'id_17','C1']]\n",
    "X_test=X1.values\n",
    "lr = LogisticRegression(random_state = 0)"
   ]
  },
  {
   "cell_type": "code",
   "execution_count": null,
   "id": "9789c8c8",
   "metadata": {},
   "outputs": [],
   "source": [
    "#training model\n",
    "lr.fit(X_train, Y_train)"
   ]
  },
  {
   "cell_type": "code",
   "execution_count": null,
   "id": "d844c1f6",
   "metadata": {},
   "outputs": [],
   "source": [
    "#predicting values\n",
    "lr_yhat = lr.predict(X_test)"
   ]
  },
  {
   "cell_type": "code",
   "execution_count": null,
   "id": "f8ae588d",
   "metadata": {},
   "outputs": [],
   "source": [
    "print(lr_yhat.tolist())"
   ]
  },
  {
   "cell_type": "code",
   "execution_count": null,
   "id": "abfa9d19",
   "metadata": {},
   "outputs": [],
   "source": [
    "#Cross validation\n",
    "scores1 = cross_val_score(lr, X, Y, cv=5)\n",
    "scores1"
   ]
  },
  {
   "cell_type": "code",
   "execution_count": null,
   "id": "bbb03c20",
   "metadata": {},
   "outputs": [],
   "source": [
    "#print('Accuracy score of the Logistic Regression model is {}'.format(accuracy_score(Y_test, lr_yhat)))\n",
    "\"\"\"\n",
    "n_outliers = len(Fraud)\n",
    "n_errors = (lr_yhat != Y_test).sum()\n",
    "print(\"The model used is Logistic Regression\")\n",
    "acc1= accuracy_score(Y_test,lr_yhat)\n",
    "print(\"The accuracy is  {}\".format(acc1))\n",
    "prec1= precision_score(Y_test,lr_yhat)\n",
    "print(\"The precision is {}\".format(prec1))\n",
    "rec1= recall_score(Y_test,lr_yhat)\n",
    "print(\"The recall is {}\".format(rec1))\n",
    "f11= f1_score(Y_test,lr_yhat)\n",
    "print(\"The F1-Score is {}\".format(f11))\n",
    "\"\"\"\n",
    "#MCC=matthews_corrcoef(Y_test,y_pred)\n",
    "#print(\"The Matthews correlation coefficient is {}\".format(MCC))"
   ]
  },
  {
   "cell_type": "code",
   "execution_count": null,
   "id": "e823d484",
   "metadata": {},
   "outputs": [],
   "source": [
    "#printing the confusion matrix for Logistic regression\n",
    "\"\"\"\n",
    "LABELS = ['Normal', 'Fraud']\n",
    "conf_matrix = confusion_matrix(Y_test, y_pred)\n",
    "plt.figure(figsize=(5, 5))\n",
    "sns.heatmap(conf_matrix, xticklabels=LABELS, yticklabels=LABELS, annot=True, fmt=\"d\");\n",
    "plt.title(\"Confusion matrix\")\n",
    "plt.ylabel('True class')\n",
    "plt.xlabel('Predicted class')\n",
    "plt.show()\n",
    "\"\"\"\n",
    "\n",
    "# Run classification metrics\n",
    "#plt.figure(figsize=(9, 7))\n",
    "#print('{}: {}'.format(\"Logistic Regression\", n_errors))\n",
    "#print(accuracy_score(Y_test, y_pred))\n",
    "#print(classification_report(Y_test, y_pred))"
   ]
  },
  {
   "cell_type": "code",
   "execution_count": null,
   "id": "4354c578",
   "metadata": {},
   "outputs": [],
   "source": [
    "known_variable = []\n",
    "known_variable = ['TransactionAmt', 'card1', 'card2', 'card5', 'addr1', 'id_01', 'id_03', 'id_17','C1']\n",
    "\n",
    "models = []\n",
    "models.append(rfc)\n",
    "\n",
    "collect_predictions = []\n",
    "for m in models:\n",
    "    collect_predictions.append(m.predict(test_df[known_variable]))\n",
    "\n",
    "df_predictions = pd.DataFrame(np.array(collect_predictions).T)\n",
    "df_predictions['TransactionID'] = test_df['TransactionID']\n",
    "result = []\n",
    "\n",
    "print(df_predictions)\n",
    "\n",
    "for df_p in df_predictions.iterrows():\n",
    "    cur_row = [df_p[1]['TransactionID'], ' '.join(list(df_p[1][df_p[1] == 1].keys()))]\n",
    "    result.append(cur_row)\n",
    "\n",
    "df_result = pd.DataFrame(result, columns=['TransactionID', 'isFraud'])\n",
    "df_result.to_csv(\"../data/final/submission.csv\", index=False)\n",
    "print(\"Run Completed!\")\n"
   ]
  },
  {
   "cell_type": "code",
   "execution_count": null,
   "id": "b8fb74b9",
   "metadata": {},
   "outputs": [],
   "source": []
  },
  {
   "cell_type": "code",
   "execution_count": null,
   "id": "739dff61",
   "metadata": {},
   "outputs": [],
   "source": []
  },
  {
   "cell_type": "code",
   "execution_count": null,
   "id": "0c4bc461",
   "metadata": {},
   "outputs": [],
   "source": []
  },
  {
   "cell_type": "code",
   "execution_count": null,
   "id": "589ef6ba",
   "metadata": {},
   "outputs": [],
   "source": []
  },
  {
   "cell_type": "code",
   "execution_count": null,
   "id": "6ccf99f8",
   "metadata": {},
   "outputs": [],
   "source": []
  },
  {
   "cell_type": "code",
   "execution_count": null,
   "id": "9b3bf118",
   "metadata": {},
   "outputs": [],
   "source": []
  },
  {
   "cell_type": "code",
   "execution_count": null,
   "id": "1651c5ff",
   "metadata": {},
   "outputs": [],
   "source": []
  },
  {
   "cell_type": "code",
   "execution_count": null,
   "id": "1606b117",
   "metadata": {},
   "outputs": [],
   "source": []
  },
  {
   "cell_type": "code",
   "execution_count": null,
   "id": "68f02ac6",
   "metadata": {},
   "outputs": [],
   "source": []
  },
  {
   "cell_type": "code",
   "execution_count": null,
   "id": "a6c4a2ad",
   "metadata": {},
   "outputs": [],
   "source": []
  },
  {
   "cell_type": "code",
   "execution_count": null,
   "id": "0b3e0b2c",
   "metadata": {},
   "outputs": [],
   "source": []
  },
  {
   "cell_type": "code",
   "execution_count": null,
   "id": "a558eb80",
   "metadata": {},
   "outputs": [],
   "source": []
  },
  {
   "cell_type": "code",
   "execution_count": null,
   "id": "672184ed",
   "metadata": {},
   "outputs": [],
   "source": []
  },
  {
   "cell_type": "code",
   "execution_count": null,
   "id": "85a938ff",
   "metadata": {},
   "outputs": [],
   "source": []
  },
  {
   "cell_type": "code",
   "execution_count": null,
   "id": "03b5fb37",
   "metadata": {},
   "outputs": [],
   "source": []
  },
  {
   "cell_type": "code",
   "execution_count": null,
   "id": "aa437c6a",
   "metadata": {},
   "outputs": [],
   "source": []
  },
  {
   "cell_type": "code",
   "execution_count": null,
   "id": "84e0d5b9",
   "metadata": {},
   "outputs": [],
   "source": []
  },
  {
   "cell_type": "code",
   "execution_count": null,
   "id": "ffdb76f6",
   "metadata": {},
   "outputs": [],
   "source": []
  },
  {
   "cell_type": "code",
   "execution_count": null,
   "id": "60d15f4c",
   "metadata": {},
   "outputs": [],
   "source": []
  },
  {
   "cell_type": "code",
   "execution_count": null,
   "id": "5ea02032",
   "metadata": {},
   "outputs": [],
   "source": []
  }
 ],
 "metadata": {
  "kernelspec": {
   "display_name": "Python 3 (ipykernel)",
   "language": "python",
   "name": "python3"
  },
  "language_info": {
   "codemirror_mode": {
    "name": "ipython",
    "version": 3
   },
   "file_extension": ".py",
   "mimetype": "text/x-python",
   "name": "python",
   "nbconvert_exporter": "python",
   "pygments_lexer": "ipython3",
   "version": "3.10.10"
  }
 },
 "nbformat": 4,
 "nbformat_minor": 5
}
