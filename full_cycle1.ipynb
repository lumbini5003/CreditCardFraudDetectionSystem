{
 "cells": [
  {
   "cell_type": "code",
   "execution_count": 2,
   "id": "2d02cb70",
   "metadata": {},
   "outputs": [
    {
     "ename": "FileNotFoundError",
     "evalue": "[Errno 2] No such file or directory: '../data/raw/train_identity.csv'",
     "output_type": "error",
     "traceback": [
      "\u001b[1;31m---------------------------------------------------------------------------\u001b[0m",
      "\u001b[1;31mFileNotFoundError\u001b[0m                         Traceback (most recent call last)",
      "Cell \u001b[1;32mIn[2], line 17\u001b[0m\n\u001b[0;32m     14\u001b[0m MAX_ROWs \u001b[38;5;241m=\u001b[39m \u001b[38;5;241m10000\u001b[39m\n\u001b[0;32m     16\u001b[0m \u001b[38;5;66;03m#Load Train data\u001b[39;00m\n\u001b[1;32m---> 17\u001b[0m train_identity_df \u001b[38;5;241m=\u001b[39m \u001b[43mpd\u001b[49m\u001b[38;5;241;43m.\u001b[39;49m\u001b[43mread_csv\u001b[49m\u001b[43m(\u001b[49m\u001b[38;5;124;43m\"\u001b[39;49m\u001b[38;5;124;43m../data/raw/train_identity.csv\u001b[39;49m\u001b[38;5;124;43m\"\u001b[39;49m\u001b[43m,\u001b[49m\u001b[43m \u001b[49m\u001b[43mnrows\u001b[49m\u001b[43m \u001b[49m\u001b[38;5;241;43m=\u001b[39;49m\u001b[43m \u001b[49m\u001b[43mMAX_ROWs\u001b[49m\u001b[43m)\u001b[49m\n\u001b[0;32m     18\u001b[0m train_transaction_df \u001b[38;5;241m=\u001b[39m pd\u001b[38;5;241m.\u001b[39mread_csv(\u001b[38;5;124m\"\u001b[39m\u001b[38;5;124m../data/raw/train_transaction.csv\u001b[39m\u001b[38;5;124m\"\u001b[39m, nrows \u001b[38;5;241m=\u001b[39m MAX_ROWs)\n\u001b[0;32m     20\u001b[0m \u001b[38;5;66;03m#Load Test data\u001b[39;00m\n",
      "File \u001b[1;32m~\\PycharmProjects\\CreditCardFraudDetectionSystem\\venv\\lib\\site-packages\\pandas\\io\\parsers\\readers.py:912\u001b[0m, in \u001b[0;36mread_csv\u001b[1;34m(filepath_or_buffer, sep, delimiter, header, names, index_col, usecols, dtype, engine, converters, true_values, false_values, skipinitialspace, skiprows, skipfooter, nrows, na_values, keep_default_na, na_filter, verbose, skip_blank_lines, parse_dates, infer_datetime_format, keep_date_col, date_parser, date_format, dayfirst, cache_dates, iterator, chunksize, compression, thousands, decimal, lineterminator, quotechar, quoting, doublequote, escapechar, comment, encoding, encoding_errors, dialect, on_bad_lines, delim_whitespace, low_memory, memory_map, float_precision, storage_options, dtype_backend)\u001b[0m\n\u001b[0;32m    899\u001b[0m kwds_defaults \u001b[38;5;241m=\u001b[39m _refine_defaults_read(\n\u001b[0;32m    900\u001b[0m     dialect,\n\u001b[0;32m    901\u001b[0m     delimiter,\n\u001b[1;32m   (...)\u001b[0m\n\u001b[0;32m    908\u001b[0m     dtype_backend\u001b[38;5;241m=\u001b[39mdtype_backend,\n\u001b[0;32m    909\u001b[0m )\n\u001b[0;32m    910\u001b[0m kwds\u001b[38;5;241m.\u001b[39mupdate(kwds_defaults)\n\u001b[1;32m--> 912\u001b[0m \u001b[38;5;28;01mreturn\u001b[39;00m \u001b[43m_read\u001b[49m\u001b[43m(\u001b[49m\u001b[43mfilepath_or_buffer\u001b[49m\u001b[43m,\u001b[49m\u001b[43m \u001b[49m\u001b[43mkwds\u001b[49m\u001b[43m)\u001b[49m\n",
      "File \u001b[1;32m~\\PycharmProjects\\CreditCardFraudDetectionSystem\\venv\\lib\\site-packages\\pandas\\io\\parsers\\readers.py:577\u001b[0m, in \u001b[0;36m_read\u001b[1;34m(filepath_or_buffer, kwds)\u001b[0m\n\u001b[0;32m    574\u001b[0m _validate_names(kwds\u001b[38;5;241m.\u001b[39mget(\u001b[38;5;124m\"\u001b[39m\u001b[38;5;124mnames\u001b[39m\u001b[38;5;124m\"\u001b[39m, \u001b[38;5;28;01mNone\u001b[39;00m))\n\u001b[0;32m    576\u001b[0m \u001b[38;5;66;03m# Create the parser.\u001b[39;00m\n\u001b[1;32m--> 577\u001b[0m parser \u001b[38;5;241m=\u001b[39m TextFileReader(filepath_or_buffer, \u001b[38;5;241m*\u001b[39m\u001b[38;5;241m*\u001b[39mkwds)\n\u001b[0;32m    579\u001b[0m \u001b[38;5;28;01mif\u001b[39;00m chunksize \u001b[38;5;129;01mor\u001b[39;00m iterator:\n\u001b[0;32m    580\u001b[0m     \u001b[38;5;28;01mreturn\u001b[39;00m parser\n",
      "File \u001b[1;32m~\\PycharmProjects\\CreditCardFraudDetectionSystem\\venv\\lib\\site-packages\\pandas\\io\\parsers\\readers.py:1407\u001b[0m, in \u001b[0;36mTextFileReader.__init__\u001b[1;34m(self, f, engine, **kwds)\u001b[0m\n\u001b[0;32m   1404\u001b[0m     \u001b[38;5;28mself\u001b[39m\u001b[38;5;241m.\u001b[39moptions[\u001b[38;5;124m\"\u001b[39m\u001b[38;5;124mhas_index_names\u001b[39m\u001b[38;5;124m\"\u001b[39m] \u001b[38;5;241m=\u001b[39m kwds[\u001b[38;5;124m\"\u001b[39m\u001b[38;5;124mhas_index_names\u001b[39m\u001b[38;5;124m\"\u001b[39m]\n\u001b[0;32m   1406\u001b[0m \u001b[38;5;28mself\u001b[39m\u001b[38;5;241m.\u001b[39mhandles: IOHandles \u001b[38;5;241m|\u001b[39m \u001b[38;5;28;01mNone\u001b[39;00m \u001b[38;5;241m=\u001b[39m \u001b[38;5;28;01mNone\u001b[39;00m\n\u001b[1;32m-> 1407\u001b[0m \u001b[38;5;28mself\u001b[39m\u001b[38;5;241m.\u001b[39m_engine \u001b[38;5;241m=\u001b[39m \u001b[38;5;28;43mself\u001b[39;49m\u001b[38;5;241;43m.\u001b[39;49m\u001b[43m_make_engine\u001b[49m\u001b[43m(\u001b[49m\u001b[43mf\u001b[49m\u001b[43m,\u001b[49m\u001b[43m \u001b[49m\u001b[38;5;28;43mself\u001b[39;49m\u001b[38;5;241;43m.\u001b[39;49m\u001b[43mengine\u001b[49m\u001b[43m)\u001b[49m\n",
      "File \u001b[1;32m~\\PycharmProjects\\CreditCardFraudDetectionSystem\\venv\\lib\\site-packages\\pandas\\io\\parsers\\readers.py:1661\u001b[0m, in \u001b[0;36mTextFileReader._make_engine\u001b[1;34m(self, f, engine)\u001b[0m\n\u001b[0;32m   1659\u001b[0m     \u001b[38;5;28;01mif\u001b[39;00m \u001b[38;5;124m\"\u001b[39m\u001b[38;5;124mb\u001b[39m\u001b[38;5;124m\"\u001b[39m \u001b[38;5;129;01mnot\u001b[39;00m \u001b[38;5;129;01min\u001b[39;00m mode:\n\u001b[0;32m   1660\u001b[0m         mode \u001b[38;5;241m+\u001b[39m\u001b[38;5;241m=\u001b[39m \u001b[38;5;124m\"\u001b[39m\u001b[38;5;124mb\u001b[39m\u001b[38;5;124m\"\u001b[39m\n\u001b[1;32m-> 1661\u001b[0m \u001b[38;5;28mself\u001b[39m\u001b[38;5;241m.\u001b[39mhandles \u001b[38;5;241m=\u001b[39m \u001b[43mget_handle\u001b[49m\u001b[43m(\u001b[49m\n\u001b[0;32m   1662\u001b[0m \u001b[43m    \u001b[49m\u001b[43mf\u001b[49m\u001b[43m,\u001b[49m\n\u001b[0;32m   1663\u001b[0m \u001b[43m    \u001b[49m\u001b[43mmode\u001b[49m\u001b[43m,\u001b[49m\n\u001b[0;32m   1664\u001b[0m \u001b[43m    \u001b[49m\u001b[43mencoding\u001b[49m\u001b[38;5;241;43m=\u001b[39;49m\u001b[38;5;28;43mself\u001b[39;49m\u001b[38;5;241;43m.\u001b[39;49m\u001b[43moptions\u001b[49m\u001b[38;5;241;43m.\u001b[39;49m\u001b[43mget\u001b[49m\u001b[43m(\u001b[49m\u001b[38;5;124;43m\"\u001b[39;49m\u001b[38;5;124;43mencoding\u001b[39;49m\u001b[38;5;124;43m\"\u001b[39;49m\u001b[43m,\u001b[49m\u001b[43m \u001b[49m\u001b[38;5;28;43;01mNone\u001b[39;49;00m\u001b[43m)\u001b[49m\u001b[43m,\u001b[49m\n\u001b[0;32m   1665\u001b[0m \u001b[43m    \u001b[49m\u001b[43mcompression\u001b[49m\u001b[38;5;241;43m=\u001b[39;49m\u001b[38;5;28;43mself\u001b[39;49m\u001b[38;5;241;43m.\u001b[39;49m\u001b[43moptions\u001b[49m\u001b[38;5;241;43m.\u001b[39;49m\u001b[43mget\u001b[49m\u001b[43m(\u001b[49m\u001b[38;5;124;43m\"\u001b[39;49m\u001b[38;5;124;43mcompression\u001b[39;49m\u001b[38;5;124;43m\"\u001b[39;49m\u001b[43m,\u001b[49m\u001b[43m \u001b[49m\u001b[38;5;28;43;01mNone\u001b[39;49;00m\u001b[43m)\u001b[49m\u001b[43m,\u001b[49m\n\u001b[0;32m   1666\u001b[0m \u001b[43m    \u001b[49m\u001b[43mmemory_map\u001b[49m\u001b[38;5;241;43m=\u001b[39;49m\u001b[38;5;28;43mself\u001b[39;49m\u001b[38;5;241;43m.\u001b[39;49m\u001b[43moptions\u001b[49m\u001b[38;5;241;43m.\u001b[39;49m\u001b[43mget\u001b[49m\u001b[43m(\u001b[49m\u001b[38;5;124;43m\"\u001b[39;49m\u001b[38;5;124;43mmemory_map\u001b[39;49m\u001b[38;5;124;43m\"\u001b[39;49m\u001b[43m,\u001b[49m\u001b[43m \u001b[49m\u001b[38;5;28;43;01mFalse\u001b[39;49;00m\u001b[43m)\u001b[49m\u001b[43m,\u001b[49m\n\u001b[0;32m   1667\u001b[0m \u001b[43m    \u001b[49m\u001b[43mis_text\u001b[49m\u001b[38;5;241;43m=\u001b[39;49m\u001b[43mis_text\u001b[49m\u001b[43m,\u001b[49m\n\u001b[0;32m   1668\u001b[0m \u001b[43m    \u001b[49m\u001b[43merrors\u001b[49m\u001b[38;5;241;43m=\u001b[39;49m\u001b[38;5;28;43mself\u001b[39;49m\u001b[38;5;241;43m.\u001b[39;49m\u001b[43moptions\u001b[49m\u001b[38;5;241;43m.\u001b[39;49m\u001b[43mget\u001b[49m\u001b[43m(\u001b[49m\u001b[38;5;124;43m\"\u001b[39;49m\u001b[38;5;124;43mencoding_errors\u001b[39;49m\u001b[38;5;124;43m\"\u001b[39;49m\u001b[43m,\u001b[49m\u001b[43m \u001b[49m\u001b[38;5;124;43m\"\u001b[39;49m\u001b[38;5;124;43mstrict\u001b[39;49m\u001b[38;5;124;43m\"\u001b[39;49m\u001b[43m)\u001b[49m\u001b[43m,\u001b[49m\n\u001b[0;32m   1669\u001b[0m \u001b[43m    \u001b[49m\u001b[43mstorage_options\u001b[49m\u001b[38;5;241;43m=\u001b[39;49m\u001b[38;5;28;43mself\u001b[39;49m\u001b[38;5;241;43m.\u001b[39;49m\u001b[43moptions\u001b[49m\u001b[38;5;241;43m.\u001b[39;49m\u001b[43mget\u001b[49m\u001b[43m(\u001b[49m\u001b[38;5;124;43m\"\u001b[39;49m\u001b[38;5;124;43mstorage_options\u001b[39;49m\u001b[38;5;124;43m\"\u001b[39;49m\u001b[43m,\u001b[49m\u001b[43m \u001b[49m\u001b[38;5;28;43;01mNone\u001b[39;49;00m\u001b[43m)\u001b[49m\u001b[43m,\u001b[49m\n\u001b[0;32m   1670\u001b[0m \u001b[43m\u001b[49m\u001b[43m)\u001b[49m\n\u001b[0;32m   1671\u001b[0m \u001b[38;5;28;01massert\u001b[39;00m \u001b[38;5;28mself\u001b[39m\u001b[38;5;241m.\u001b[39mhandles \u001b[38;5;129;01mis\u001b[39;00m \u001b[38;5;129;01mnot\u001b[39;00m \u001b[38;5;28;01mNone\u001b[39;00m\n\u001b[0;32m   1672\u001b[0m f \u001b[38;5;241m=\u001b[39m \u001b[38;5;28mself\u001b[39m\u001b[38;5;241m.\u001b[39mhandles\u001b[38;5;241m.\u001b[39mhandle\n",
      "File \u001b[1;32m~\\PycharmProjects\\CreditCardFraudDetectionSystem\\venv\\lib\\site-packages\\pandas\\io\\common.py:859\u001b[0m, in \u001b[0;36mget_handle\u001b[1;34m(path_or_buf, mode, encoding, compression, memory_map, is_text, errors, storage_options)\u001b[0m\n\u001b[0;32m    854\u001b[0m \u001b[38;5;28;01melif\u001b[39;00m \u001b[38;5;28misinstance\u001b[39m(handle, \u001b[38;5;28mstr\u001b[39m):\n\u001b[0;32m    855\u001b[0m     \u001b[38;5;66;03m# Check whether the filename is to be opened in binary mode.\u001b[39;00m\n\u001b[0;32m    856\u001b[0m     \u001b[38;5;66;03m# Binary mode does not support 'encoding' and 'newline'.\u001b[39;00m\n\u001b[0;32m    857\u001b[0m     \u001b[38;5;28;01mif\u001b[39;00m ioargs\u001b[38;5;241m.\u001b[39mencoding \u001b[38;5;129;01mand\u001b[39;00m \u001b[38;5;124m\"\u001b[39m\u001b[38;5;124mb\u001b[39m\u001b[38;5;124m\"\u001b[39m \u001b[38;5;129;01mnot\u001b[39;00m \u001b[38;5;129;01min\u001b[39;00m ioargs\u001b[38;5;241m.\u001b[39mmode:\n\u001b[0;32m    858\u001b[0m         \u001b[38;5;66;03m# Encoding\u001b[39;00m\n\u001b[1;32m--> 859\u001b[0m         handle \u001b[38;5;241m=\u001b[39m \u001b[38;5;28;43mopen\u001b[39;49m\u001b[43m(\u001b[49m\n\u001b[0;32m    860\u001b[0m \u001b[43m            \u001b[49m\u001b[43mhandle\u001b[49m\u001b[43m,\u001b[49m\n\u001b[0;32m    861\u001b[0m \u001b[43m            \u001b[49m\u001b[43mioargs\u001b[49m\u001b[38;5;241;43m.\u001b[39;49m\u001b[43mmode\u001b[49m\u001b[43m,\u001b[49m\n\u001b[0;32m    862\u001b[0m \u001b[43m            \u001b[49m\u001b[43mencoding\u001b[49m\u001b[38;5;241;43m=\u001b[39;49m\u001b[43mioargs\u001b[49m\u001b[38;5;241;43m.\u001b[39;49m\u001b[43mencoding\u001b[49m\u001b[43m,\u001b[49m\n\u001b[0;32m    863\u001b[0m \u001b[43m            \u001b[49m\u001b[43merrors\u001b[49m\u001b[38;5;241;43m=\u001b[39;49m\u001b[43merrors\u001b[49m\u001b[43m,\u001b[49m\n\u001b[0;32m    864\u001b[0m \u001b[43m            \u001b[49m\u001b[43mnewline\u001b[49m\u001b[38;5;241;43m=\u001b[39;49m\u001b[38;5;124;43m\"\u001b[39;49m\u001b[38;5;124;43m\"\u001b[39;49m\u001b[43m,\u001b[49m\n\u001b[0;32m    865\u001b[0m \u001b[43m        \u001b[49m\u001b[43m)\u001b[49m\n\u001b[0;32m    866\u001b[0m     \u001b[38;5;28;01melse\u001b[39;00m:\n\u001b[0;32m    867\u001b[0m         \u001b[38;5;66;03m# Binary mode\u001b[39;00m\n\u001b[0;32m    868\u001b[0m         handle \u001b[38;5;241m=\u001b[39m \u001b[38;5;28mopen\u001b[39m(handle, ioargs\u001b[38;5;241m.\u001b[39mmode)\n",
      "\u001b[1;31mFileNotFoundError\u001b[0m: [Errno 2] No such file or directory: '../data/raw/train_identity.csv'"
     ]
    }
   ],
   "source": [
    "#import required libraries\n",
    "import numpy as np \n",
    "import pandas as pd \n",
    "import seaborn as sns\n",
    "import matplotlib.pyplot as plt \n",
    "\n",
    "\n",
    "#to suppress warnings\n",
    "import warnings\n",
    "warnings.filterwarnings('ignore')\n",
    "\n",
    "\n",
    "#Load data\n",
    "MAX_ROWs = 10000\n",
    "\n",
    "#Load Train data\n",
    "train_identity_df = pd.read_csv(\"../data/raw/train_identity.csv\", nrows = MAX_ROWs)\n",
    "train_transaction_df = pd.read_csv(\"../data/raw/train_transaction.csv\", nrows = MAX_ROWs)\n",
    "\n",
    "#Load Test data\n",
    "test_identity_df = pd.read_csv(\"../data/raw/test_identity.csv\", nrows = MAX_ROWs)\n",
    "test_transaction_df = pd.read_csv(\"../data/raw/test_transaction.csv\", nrows = MAX_ROWs)\n",
    "\n",
    "#check data for transaction\n",
    "train_transaction_df.head()\n"
   ]
  },
  {
   "cell_type": "code",
   "execution_count": null,
   "id": "fed84d2f",
   "metadata": {},
   "outputs": [],
   "source": [
    "print(\"Credit Card Fraud Detection data set of transaction -  rows:\",train_transaction_df.shape[0],\" columns:\", train_transaction_df.shape[1])"
   ]
  },
  {
   "cell_type": "code",
   "execution_count": null,
   "id": "96852eda",
   "metadata": {},
   "outputs": [],
   "source": [
    "train_transaction_df.describe()"
   ]
  },
  {
   "cell_type": "code",
   "execution_count": null,
   "id": "895cec8e",
   "metadata": {},
   "outputs": [],
   "source": [
    "#Check missing data for transaction dataset\n",
    "total = train_transaction_df.isnull().sum().sort_values(ascending = False)\n",
    "percent = (train_transaction_df.isnull().sum()/train_transaction_df.isnull().count()*100).sort_values(ascending = False)\n",
    "pd.concat([total, percent], axis=1, keys=['Total', 'Percent']).transpose()"
   ]
  },
  {
   "cell_type": "code",
   "execution_count": null,
   "id": "754e65ab",
   "metadata": {},
   "outputs": [],
   "source": [
    "#check data for identity dataset\n",
    "train_identity_df.head()"
   ]
  },
  {
   "cell_type": "code",
   "execution_count": null,
   "id": "5745819b",
   "metadata": {},
   "outputs": [],
   "source": [
    "print(\"Credit Card Fraud Detection data set of identity -  rows:\",train_identity_df.shape[0],\" columns:\", train_identity_df.shape[1])"
   ]
  },
  {
   "cell_type": "code",
   "execution_count": null,
   "id": "3da8a4ea",
   "metadata": {},
   "outputs": [],
   "source": [
    "train_identity_df.describe()"
   ]
  },
  {
   "cell_type": "code",
   "execution_count": null,
   "id": "a221be79",
   "metadata": {},
   "outputs": [],
   "source": [
    "#Check missing data for identity dataset\n",
    "total = train_identity_df.isnull().sum().sort_values(ascending = False)\n",
    "percent = (train_identity_df.isnull().sum()/train_identity_df.isnull().count()*100).sort_values(ascending = False)\n",
    "pd.concat([total, percent], axis=1, keys=['Total', 'Percent']).transpose()"
   ]
  },
  {
   "cell_type": "code",
   "execution_count": null,
   "id": "8b9e0023",
   "metadata": {},
   "outputs": [],
   "source": [
    "#there are many columns and some of them contains maximum null values, So we take some columns\n",
    "trans_column = ['TransactionID','isFraud','TransactionAmt','ProductCD','card1','card2','card4','addr1','P_emaildomain','R_emaildomain', 'C1','V1']\n",
    "id_column = ['id_01','id_03','id_17','id_25','DeviceType', 'DeviceInfo']"
   ]
  },
  {
   "cell_type": "code",
   "execution_count": null,
   "id": "39f01604",
   "metadata": {},
   "outputs": [],
   "source": [
    "df_train_trans = train_transaction_df[trans_column].copy()\n",
    "df_train_trans.describe()"
   ]
  },
  {
   "cell_type": "code",
   "execution_count": null,
   "id": "c18c9505",
   "metadata": {},
   "outputs": [],
   "source": [
    "df_train_identity = train_identity_df[id_column].copy()\n",
    "df_train_identity.describe()"
   ]
  },
  {
   "cell_type": "code",
   "execution_count": null,
   "id": "39e77c16",
   "metadata": {},
   "outputs": [],
   "source": [
    "#Join Transaction and Identity dataset\n",
    "train_df = df_train_trans.merge(df_train_identity, how='left', left_index=True, right_index=True)"
   ]
  },
  {
   "cell_type": "code",
   "execution_count": null,
   "id": "8c2db6e7",
   "metadata": {},
   "outputs": [],
   "source": [
    "train_df.head()"
   ]
  },
  {
   "cell_type": "code",
   "execution_count": null,
   "id": "7bec0706",
   "metadata": {},
   "outputs": [],
   "source": [
    "train_df.info()"
   ]
  },
  {
   "cell_type": "code",
   "execution_count": null,
   "id": "e28fec2a",
   "metadata": {},
   "outputs": [],
   "source": [
    "train_df.isnull().sum()"
   ]
  },
  {
   "cell_type": "code",
   "execution_count": null,
   "id": "3b34aa50",
   "metadata": {},
   "outputs": [],
   "source": [
    "#clean columns\n",
    "#function to clean columns containing numerical values\n",
    "def impute_median(df, column_name):\n",
    "    median_value = df[~df[column_name].astype(str).str.contains('NA')][column_name].astype(float).median()\n",
    "    df.loc[df[column_name].astype(str).str.contains('NA'), column_name] = median_value\n",
    "    df[column_name] = df[column_name].fillna(median_value)\n",
    "    \n",
    "    return df\n",
    "\n",
    "#clean column card_2\n",
    "train_df = impute_median(train_df, 'card2')\n",
    "\n",
    "#clean column id_25\n",
    "train_df = impute_median(train_df, 'id_25')\n",
    "\n",
    "#clean column addr1\n",
    "train_df = impute_median(train_df, 'addr1')\n",
    "\n",
    "#clean column id_3\n",
    "train_df = impute_median(train_df, 'id_03')\n",
    "\n",
    "#clean column id_17\n",
    "train_df = impute_median(train_df, 'id_17')\n",
    "\n",
    "#clean column V1\n",
    "train_df = impute_median(train_df, 'V1')\n",
    "\n",
    "\n",
    "#median_value_card2 = train_df[~train_df['card2'].astype(str).str.contains('NA')]['card2'].astype(float).median()\n",
    "#train_df.loc[train_df['card2'].astype(str).str.contains('NA'), 'card2'] = median_value_card2\n",
    "#train_df['card2'] = train_df['card2'].fillna(median_value_card2)"
   ]
  },
  {
   "cell_type": "code",
   "execution_count": null,
   "id": "a558eb80",
   "metadata": {},
   "outputs": [],
   "source": []
  },
  {
   "cell_type": "code",
   "execution_count": null,
   "id": "976cd0c2",
   "metadata": {},
   "outputs": [],
   "source": [
    "train_df.isnull().sum()"
   ]
  },
  {
   "cell_type": "code",
   "execution_count": null,
   "id": "3d3b3ad6",
   "metadata": {},
   "outputs": [],
   "source": [
    "#Clean categorical columns\n",
    "#train_df['card4'].value_counts()\n",
    "train_df['card4'] = train_df['card4'].fillna('visa')"
   ]
  },
  {
   "cell_type": "code",
   "execution_count": null,
   "id": "672184ed",
   "metadata": {},
   "outputs": [],
   "source": []
  },
  {
   "cell_type": "code",
   "execution_count": null,
   "id": "9baa9754",
   "metadata": {},
   "outputs": [],
   "source": [
    "#clean column P_emaildomain\n",
    "#train_df['P_emaildomain'].value_counts()\n",
    "train_df['P_emaildomain'] = train_df['P_emaildomain'].fillna('gmail.com')"
   ]
  },
  {
   "cell_type": "code",
   "execution_count": null,
   "id": "94cad7d5",
   "metadata": {},
   "outputs": [],
   "source": [
    "#Clean column R_emaildomain\n",
    "#train_df['R_emaildomain'].value_counts()\n",
    "train_df['R_emaildomain'] = train_df['R_emaildomain'].fillna('gmail.com')"
   ]
  },
  {
   "cell_type": "code",
   "execution_count": null,
   "id": "b074dcbf",
   "metadata": {},
   "outputs": [],
   "source": [
    "#clean column DeviceType\n",
    "#train_df['DeviceType'].value_counts()\n",
    "train_df['DeviceType'] = train_df['DeviceType'].fillna('desktop')"
   ]
  },
  {
   "cell_type": "code",
   "execution_count": null,
   "id": "88e82402",
   "metadata": {},
   "outputs": [],
   "source": [
    "#clean column DeviceInfo\n",
    "#train_df['DeviceInfo'].value_counts()\n",
    "train_df['DeviceInfo'] = train_df['DeviceInfo'].fillna('Windows')"
   ]
  },
  {
   "cell_type": "code",
   "execution_count": null,
   "id": "33500883",
   "metadata": {},
   "outputs": [],
   "source": [
    "train_df.isnull().sum()"
   ]
  },
  {
   "cell_type": "code",
   "execution_count": null,
   "id": "171838bb",
   "metadata": {},
   "outputs": [],
   "source": [
    "#Data exploration\n",
    "train_df['isFraud'].value_counts()"
   ]
  },
  {
   "cell_type": "code",
   "execution_count": null,
   "id": "368a9501",
   "metadata": {},
   "outputs": [],
   "source": [
    "sns.countplot(x = 'isFraud', data = train_df, palette='hls', )\n",
    "plt.show()"
   ]
  },
  {
   "cell_type": "code",
   "execution_count": null,
   "id": "dfe9ba72",
   "metadata": {},
   "outputs": [],
   "source": [
    "count_no_fraud = len(train_df[train_df['isFraud']==0])\n",
    "count_fraud = len(train_df[train_df['isFraud']==1])\n",
    "pct_of_no_fraud = count_no_fraud/(count_no_fraud + count_fraud)\n",
    "print(\"percentage of not fraud transaction is\", pct_of_no_fraud*100)\n",
    "pct_of_sub = count_fraud/(count_no_fraud + count_fraud)\n",
    "print(\"percentage of fraud transaction is\", pct_of_sub*100)"
   ]
  },
  {
   "cell_type": "code",
   "execution_count": null,
   "id": "a9f3d087",
   "metadata": {},
   "outputs": [],
   "source": [
    "train_df.groupby('isFraud').mean(numeric_only=True)"
   ]
  },
  {
   "cell_type": "code",
   "execution_count": null,
   "id": "b8fb74b9",
   "metadata": {},
   "outputs": [],
   "source": [
    "# We can calculate categorical means for other categorical variables such as card4, deviceType \n",
    "# to get a more detailed sense of our data.\n",
    "train_df.groupby('ProductCD').mean(numeric_only=True)"
   ]
  },
  {
   "cell_type": "code",
   "execution_count": null,
   "id": "739dff61",
   "metadata": {},
   "outputs": [],
   "source": [
    "train_df.groupby('card4').mean(numeric_only=True)"
   ]
  },
  {
   "cell_type": "code",
   "execution_count": null,
   "id": "0c4bc461",
   "metadata": {},
   "outputs": [],
   "source": [
    "train_df.groupby('DeviceType').mean(numeric_only=True)"
   ]
  },
  {
   "cell_type": "code",
   "execution_count": null,
   "id": "61f85439",
   "metadata": {},
   "outputs": [],
   "source": [
    "#Visualization\n",
    "%matplotlib inline\n",
    "pd.crosstab(train_df.ProductCD,train_df.isFraud).plot(kind='bar')\n",
    "plt.title('No. of transactions for ProductCD')\n",
    "plt.xlabel('ProductCD')\n",
    "plt.ylabel('No. of transaction')\n",
    "#plt.savefig('purchase_fre_job')"
   ]
  },
  {
   "cell_type": "code",
   "execution_count": null,
   "id": "b3db2817",
   "metadata": {},
   "outputs": [],
   "source": [
    "%matplotlib inline\n",
    "pd.crosstab(train_df.card4,train_df.isFraud).plot(kind='bar')\n",
    "plt.title('No. of transactions for card type')\n",
    "plt.xlabel('Card Type')\n",
    "plt.ylabel('No. of transaction')\n",
    "#plt.savefig('purchase_fre_job')"
   ]
  },
  {
   "cell_type": "code",
   "execution_count": null,
   "id": "30134c71",
   "metadata": {},
   "outputs": [],
   "source": [
    "%matplotlib inline\n",
    "pd.crosstab(train_df.P_emaildomain,train_df.isFraud).plot(kind='bar')\n",
    "plt.title('No. of transactions for Email domain')\n",
    "plt.xlabel('Emaildomain')\n",
    "plt.ylabel('No. of transaction')\n",
    "#plt.savefig('purchase_fre_job')"
   ]
  },
  {
   "cell_type": "code",
   "execution_count": null,
   "id": "f3424612",
   "metadata": {},
   "outputs": [],
   "source": [
    "train_df.corr(numeric_only=True)"
   ]
  },
  {
   "cell_type": "code",
   "execution_count": null,
   "id": "35d88474",
   "metadata": {
    "scrolled": true
   },
   "outputs": [],
   "source": [
    "sns.heatmap(train_df.corr(numeric_only=True), center=0)"
   ]
  },
  {
   "cell_type": "code",
   "execution_count": null,
   "id": "589ef6ba",
   "metadata": {},
   "outputs": [],
   "source": [
    "train_df['TransactionAmt'].plot(kind = 'kde')"
   ]
  },
  {
   "cell_type": "code",
   "execution_count": null,
   "id": "22061beb",
   "metadata": {},
   "outputs": [],
   "source": [
    "train_df['V1'].plot(kind = 'kde')"
   ]
  },
  {
   "cell_type": "code",
   "execution_count": null,
   "id": "6282c02e",
   "metadata": {},
   "outputs": [],
   "source": []
  },
  {
   "cell_type": "code",
   "execution_count": null,
   "id": "c78ef010",
   "metadata": {},
   "outputs": [],
   "source": []
  },
  {
   "cell_type": "code",
   "execution_count": null,
   "id": "99c5e72a",
   "metadata": {},
   "outputs": [],
   "source": []
  }
 ],
 "metadata": {
  "kernelspec": {
   "display_name": "Python 3 (ipykernel)",
   "language": "python",
   "name": "python3"
  },
  "language_info": {
   "codemirror_mode": {
    "name": "ipython",
    "version": 3
   },
   "file_extension": ".py",
   "mimetype": "text/x-python",
   "name": "python",
   "nbconvert_exporter": "python",
   "pygments_lexer": "ipython3",
   "version": "3.10.10"
  }
 },
 "nbformat": 4,
 "nbformat_minor": 5
}
